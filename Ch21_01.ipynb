{
 "cells": [
  {
   "cell_type": "code",
   "execution_count": 1,
   "metadata": {},
   "outputs": [],
   "source": [
    "import QuantLib as ql\n",
    "settings = ql.Settings.instance()\n",
    "evDate = ql.Date(8, 6, 2021)\n",
    "settings.setEvaluationDate(evDate)\n",
    "Cal = ql.NullCalendar()\n",
    "DC365 = ql.Actual365Fixed()\n",
    "settlementDays = 2\n",
    "refDate = Cal.advance(evDate, 2, ql.Days, ql.Following, False)"
   ]
  },
  {
   "cell_type": "code",
   "execution_count": 2,
   "metadata": {},
   "outputs": [],
   "source": [
    "r = 0.04\n",
    "rTS = ql.FlatForward(settlementDays, Cal, r, DC365, ql.Compounded, ql.Annual)"
   ]
  },
  {
   "cell_type": "code",
   "execution_count": 3,
   "metadata": {},
   "outputs": [],
   "source": [
    "q = 0.02\n",
    "qTS = ql.FlatForward(settlementDays, Cal, q, DC365, ql.Compounded, ql.Annual)"
   ]
  },
  {
   "cell_type": "code",
   "execution_count": 4,
   "metadata": {},
   "outputs": [],
   "source": [
    "S0 = 100\n",
    "Q_S = ql.SimpleQuote(S0)\n",
    "hQ_S = ql.QuoteHandle(Q_S)"
   ]
  },
  {
   "cell_type": "code",
   "execution_count": 5,
   "metadata": {},
   "outputs": [],
   "source": [
    "h_rTS = ql.YieldTermStructureHandle(rTS)\n",
    "h_qTS = ql.YieldTermStructureHandle(qTS)"
   ]
  },
  {
   "cell_type": "code",
   "execution_count": 6,
   "metadata": {},
   "outputs": [],
   "source": [
    "vol = 0.3\n",
    "volTS = ql.BlackConstantVol(evDate, Cal, vol, DC365)\n",
    "h_volTS = ql.BlackVolTermStructureHandle(volTS)"
   ]
  },
  {
   "cell_type": "code",
   "execution_count": 7,
   "metadata": {},
   "outputs": [],
   "source": [
    "GBSProcess = ql.GeneralizedBlackScholesProcess(hQ_S, h_qTS, h_rTS, h_volTS)"
   ]
  },
  {
   "cell_type": "code",
   "execution_count": 8,
   "metadata": {},
   "outputs": [],
   "source": [
    "V0 = 0.09\n",
    "kappa = 1.0\n",
    "theta = 0.09\n",
    "sigma = 0.001\n",
    "rho = 0.0\n",
    "HestonProcess = ql.HestonProcess(h_rTS, h_qTS, hQ_S, V0, kappa, theta, sigma, rho)"
   ]
  },
  {
   "cell_type": "code",
   "execution_count": 9,
   "metadata": {},
   "outputs": [],
   "source": [
    "_lambda = 0.00000001\n",
    "_nu = 0.00000001\n",
    "_delta = 0.00000001\n",
    "BatesProcess = ql.BatesProcess(h_rTS, h_qTS, hQ_S, V0, kappa, theta, sigma, rho, _lambda, _nu, _delta)"
   ]
  },
  {
   "cell_type": "code",
   "execution_count": null,
   "metadata": {},
   "outputs": [],
   "source": []
  }
 ],
 "metadata": {
  "kernelspec": {
   "display_name": "Python 3",
   "language": "python",
   "name": "python3"
  },
  "language_info": {
   "codemirror_mode": {
    "name": "ipython",
    "version": 3
   },
   "file_extension": ".py",
   "mimetype": "text/x-python",
   "name": "python",
   "nbconvert_exporter": "python",
   "pygments_lexer": "ipython3",
   "version": "3.8.3"
  }
 },
 "nbformat": 4,
 "nbformat_minor": 4
}
