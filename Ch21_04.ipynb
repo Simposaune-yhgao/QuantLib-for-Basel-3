{
 "cells": [
  {
   "cell_type": "code",
   "execution_count": 1,
   "metadata": {},
   "outputs": [],
   "source": [
    "import QuantLib as ql\n",
    "settings = ql.Settings.instance()\n",
    "evDate = ql.Date(8, 6, 2021)\n",
    "settings.setEvaluationDate(evDate)\n",
    "Cal = ql.NullCalendar()\n",
    "DC365 = ql.Actual365Fixed()\n",
    "settlementDays = 2\n",
    "refDate = Cal.advance(evDate, 2, ql.Days, ql.Following, False)\n",
    "maturity = ql.Date(10, 6, 2022)\n",
    "europeanExer = ql.EuropeanExercise(maturity)\n",
    "vanillaPayoff = ql.PlainVanillaPayoff(ql.Option.Call, 100.0)"
   ]
  },
  {
   "cell_type": "code",
   "execution_count": 2,
   "metadata": {},
   "outputs": [],
   "source": [
    "r = 0.08\n",
    "rTS = ql.FlatForward(settlementDays, Cal, r, DC365, ql.Compounded, ql.Annual)\n",
    "q = 0.05\n",
    "qTS = ql.FlatForward(settlementDays, Cal, q, DC365, ql.Compounded, ql.Annual)\n",
    "S0 = 100\n",
    "Q_S = ql.SimpleQuote(S0)\n",
    "hQ_S = ql.QuoteHandle(Q_S)\n",
    "h_rTS = ql.YieldTermStructureHandle(rTS)\n",
    "h_qTS = ql.YieldTermStructureHandle(qTS)\n",
    "vol = 0.3\n",
    "volTS = ql.BlackConstantVol(evDate, Cal, vol, DC365)\n",
    "h_volTS = ql.BlackVolTermStructureHandle(volTS)\n",
    "V0 = 0.09\n",
    "kappa = 1.0\n",
    "theta = 0.09\n",
    "sigma = 0.001\n",
    "rho = 0.0\n",
    "HestonProcess = ql.HestonProcess(h_rTS, h_qTS, hQ_S, V0, kappa, theta, sigma, rho)"
   ]
  },
  {
   "cell_type": "code",
   "execution_count": 3,
   "metadata": {},
   "outputs": [],
   "source": [
    "HestonModel = ql.HestonModel(HestonProcess)"
   ]
  },
  {
   "cell_type": "code",
   "execution_count": 4,
   "metadata": {},
   "outputs": [],
   "source": [
    "AHE = ql.AnalyticHestonEngine(HestonModel)"
   ]
  },
  {
   "cell_type": "code",
   "execution_count": 5,
   "metadata": {},
   "outputs": [
    {
     "name": "stdout",
     "output_type": "stream",
     "text": [
      "12.5697424498412\n"
     ]
    }
   ],
   "source": [
    "anEuroOption = ql.EuropeanOption(vanillaPayoff, europeanExer)\n",
    "anEuroOption.setPricingEngine(AHE)\n",
    "Value = anEuroOption.NPV()\n",
    "print(Value)"
   ]
  },
  {
   "cell_type": "code",
   "execution_count": null,
   "metadata": {},
   "outputs": [],
   "source": []
  }
 ],
 "metadata": {
  "kernelspec": {
   "display_name": "Python 3",
   "language": "python",
   "name": "python3"
  },
  "language_info": {
   "codemirror_mode": {
    "name": "ipython",
    "version": 3
   },
   "file_extension": ".py",
   "mimetype": "text/x-python",
   "name": "python",
   "nbconvert_exporter": "python",
   "pygments_lexer": "ipython3",
   "version": "3.8.3"
  }
 },
 "nbformat": 4,
 "nbformat_minor": 4
}
