{
 "cells": [
  {
   "cell_type": "code",
   "execution_count": 1,
   "metadata": {},
   "outputs": [],
   "source": [
    "import QuantLib as ql\n",
    "settings = ql.Settings.instance()\n",
    "evDate = ql.Date(8, 6, 2021)\n",
    "settings.setEvaluationDate(evDate)\n",
    "Cal = ql.NullCalendar()\n",
    "DC365 = ql.Actual365Fixed()\n",
    "settlementDays = 2\n",
    "refDate = Cal.advance(evDate, 2, ql.Days, ql.Following, False)\n",
    "maturity = ql.Date(10, 6, 2022)\n",
    "europeanExer = ql.EuropeanExercise(maturity)\n",
    "vanillaPayoff = ql.PlainVanillaPayoff(ql.Option.Call, 100.0)"
   ]
  },
  {
   "cell_type": "code",
   "execution_count": 2,
   "metadata": {},
   "outputs": [],
   "source": [
    "BlackCal = ql.BlackCalculator(vanillaPayoff, 103.0455, 0.3, 0.92)"
   ]
  },
  {
   "cell_type": "code",
   "execution_count": 3,
   "metadata": {},
   "outputs": [],
   "source": [
    "Spot = 100.0\n",
    "ttm = 1.0\n",
    "Value = BlackCal.value()\n",
    "Delta = BlackCal.delta(Spot)\n",
    "Gamma = BlackCal.gamma(Spot)\n",
    "Theta = BlackCal.theta(Spot, ttm)"
   ]
  },
  {
   "cell_type": "code",
   "execution_count": 4,
   "metadata": {},
   "outputs": [
    {
     "name": "stdout",
     "output_type": "stream",
     "text": [
      "MTM: 12.592843405649708\n",
      "Delta: 0.567585285314726\n",
      "Gamma: 0.01221894761994143\n",
      "Theta: -6.151296410965968\n"
     ]
    }
   ],
   "source": [
    "print(\"MTM: \" + str(Value))\n",
    "print(\"Delta: \" + str(Delta))\n",
    "print(\"Gamma: \" + str(Gamma))\n",
    "print(\"Theta: \" + str(Theta))"
   ]
  },
  {
   "cell_type": "code",
   "execution_count": null,
   "metadata": {},
   "outputs": [],
   "source": []
  }
 ],
 "metadata": {
  "kernelspec": {
   "display_name": "Python 3",
   "language": "python",
   "name": "python3"
  },
  "language_info": {
   "codemirror_mode": {
    "name": "ipython",
    "version": 3
   },
   "file_extension": ".py",
   "mimetype": "text/x-python",
   "name": "python",
   "nbconvert_exporter": "python",
   "pygments_lexer": "ipython3",
   "version": "3.8.3"
  }
 },
 "nbformat": 4,
 "nbformat_minor": 4
}
