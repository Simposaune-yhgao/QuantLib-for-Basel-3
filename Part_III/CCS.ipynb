{
 "cells": [
  {
   "cell_type": "code",
   "execution_count": 1,
   "metadata": {},
   "outputs": [],
   "source": [
    "import QuantLib as ql\n",
    "\n",
    "class DCrossCurrencySwap:    \n",
    "    def __init__(self, evDate, effective, maturity, position, CCYComm, CommDC, \n",
    "                 CommIdx, CommFreq, CommSpread, InitCommNPA, FinalCommNPA, \n",
    "                 CCYTerm, TermDC, TermFreq, TermRate, InitTermNPA, FinalTermNPA, \n",
    "                 FXSpot, h_discTSComm, h_discTSTerm):\n",
    "        self._ValueDate = evDate\n",
    "        self._EffectiveDate = effective\n",
    "        self._Maturity = maturity        \n",
    "        if position == 'Long':          \n",
    "            self._Position = 1.0\n",
    "        else:\n",
    "            self._Position = -1.0\n",
    "\n",
    "        self._CCYComm = CCYComm\n",
    "        self._CommDC = CommDC\n",
    "        self._CommIdx = CommIdx\n",
    "        self._InitCommNPA = InitCommNPA\n",
    "        self._FinalCommNPA = FinalCommNPA\n",
    "        self._CommSpread = CommSpread\n",
    "        self._CommFreq = CommFreq\n",
    "\n",
    "        self._CCYTerm = CCYTerm\n",
    "        self._TermDC = TermDC\n",
    "        self._InitTermNPA = InitTermNPA\n",
    "        self._FinalTermNPA = FinalTermNPA\n",
    "        self._TermRate = TermRate\n",
    "        self._TermFreq = TermFreq\n",
    "\n",
    "        self._FXSpot = FXSpot\n",
    "        self._H_discTSComm = h_discTSComm\n",
    "        self._H_discTSTerm = h_discTSTerm\n",
    "\n",
    "    def NPV(self):\n",
    "        _DGR = ql.DateGeneration.Backward\n",
    "        _BDC = ql.Unadjusted\n",
    "        _Cal = ql.NullCalendar()\n",
    "        schTerm = ql.Schedule(self._EffectiveDate, self._Maturity, \n",
    "                              ql.Period(3, ql.Months), _Cal, _BDC, _BDC, _DGR, False)\n",
    "        tenor = int((self._Maturity.year() - self._EffectiveDate.year()) \n",
    "                    * 12 / int(self._TermFreq))\n",
    "        ListCoupon = list()\n",
    "        for j in range(tenor):\n",
    "            ListCoupon.append(self._TermRate)\n",
    "            \n",
    "        VecCoupon = ql.DoubleVector(ListCoupon)\n",
    "        TermFaceAmt = self._FinalTermNPA\n",
    "        TermBond = ql.FixedRateBond(0, TermFaceAmt, schTerm, VecCoupon, self._TermDC, \n",
    "                                    BDC, TermFaceAmt)\n",
    "        TermBondEngine = ql.DiscountingBondEngine(self._H_discTSTerm)\n",
    "        TermBond.setPricingEngine(TermBondEngine)\n",
    "        TermValue = TermBond.dirtyPrice()\n",
    "        \n",
    "        schComm = ql.Schedule(self._EffectiveDate, self._Maturity, \n",
    "                              ql.Period(3, ql.Months), _Cal, _BDC, _BDC, _DGR, False)\n",
    "        tenor = int((self._Maturity.year() - self._EffectiveDate.year()) \n",
    "                    * 12 / int(self._CommFreq))\n",
    "        ListSpread = list()\n",
    "        ListGearing = list()\n",
    "        for j in range(tenor):\n",
    "            ListSpread.append(self._CommSpread)\n",
    "            ListGearing.append(1.0)\n",
    "        VecSpread = ql.DoubleVector(ListSpread)\n",
    "        VecGearing = ql.DoubleVector(ListGearing)\n",
    "        CommFaceAmt = self._FinalCommNPA\n",
    "        CommBond = ql.FloatingRateBond(0, CommFaceAmt, schComm, self._CommIdx, \n",
    "                                       self._CommDC, _BDC, 2, VecGearing, VecSpread)\n",
    "        CommBondEngine = ql.DiscountingBondEngine(self._H_discTSComm)\n",
    "        CommBond.setPricingEngine(CommBondEngine)\n",
    "        CommValue = CommBond.dirtyPrice()\n",
    "        \n",
    "        if(evDate < self._EffectiveDate):\n",
    "            dfComm = self._H_discTSComm.discount(self._EffectiveDate)\n",
    "            dfTerm = self._H_discTSTerm.discount(self._EffectiveDate)\n",
    "            initValue = (self._InitTermNPA * dfTerm \n",
    "                         - self._FXSpot * self._InitCommNPA * dfComm)\n",
    "            self._Value = self._Position * (CommValue * self._FXSpot - TermValue \n",
    "                                            + initValue)\n",
    "        else:\n",
    "            self._Value = self._Position * (CommValue * self._FXSpot - TermValue)\n",
    "        return self._Value"
   ]
  },
  {
   "cell_type": "code",
   "execution_count": 2,
   "metadata": {},
   "outputs": [],
   "source": [
    "settings = ql.Settings.instance()\n",
    "evDate = ql.Date(10, 7, 2011)\n",
    "settings.setEvaluationDate(evDate)\n",
    "Cal = ql.NullCalendar()\n",
    "DC365 = ql.Actual365Fixed()\n",
    "DC360 = ql.Actual360()\n",
    "settlementDays = 0\n",
    "BDC = ql.Unadjusted\n",
    "Cal = ql.NullCalendar()\n",
    "refDate = Cal.advance(evDate, settlementDays, ql.Days, ql.Following, False)"
   ]
  },
  {
   "cell_type": "code",
   "execution_count": 3,
   "metadata": {},
   "outputs": [],
   "source": [
    "f = 0.01\n",
    "discTSComm = ql.FlatForward(settlementDays, Cal, f, DC360, ql.Continuous, ql.Annual)\n",
    "h_discTSComm = ql.YieldTermStructureHandle(discTSComm)"
   ]
  },
  {
   "cell_type": "code",
   "execution_count": 4,
   "metadata": {},
   "outputs": [],
   "source": [
    "r = 0.02\n",
    "discTSTerm = ql.FlatForward(settlementDays, Cal, r, DC365, ql.Continuous, ql.Annual)\n",
    "h_discTSTerm = ql.YieldTermStructureHandle(discTSTerm)"
   ]
  },
  {
   "cell_type": "code",
   "execution_count": 5,
   "metadata": {},
   "outputs": [],
   "source": [
    "Effective = ql.Date(15, 7, 2011)\n",
    "Maturity = ql.Date(15, 7, 2013)\n",
    "Position = 'Long'\n",
    "CCYComm = 'USD'\n",
    "CCYTerm = 'TWD'\n",
    "FXSpot = 27.9"
   ]
  },
  {
   "cell_type": "code",
   "execution_count": 6,
   "metadata": {},
   "outputs": [],
   "source": [
    "P3M = ql.Period(3, ql.Months)\n",
    "USD = ql.USDCurrency()\n",
    "EOM = False\n",
    "FixingDays = 2\n",
    "USDLIBOR3M = ql.IborIndex(\"LIBOR\", P3M, FixingDays, USD, Cal, BDC, EOM, DC360, \n",
    "                          h_discTSComm)\n",
    "CommFreq = 3\n",
    "CommSpread = 0\n",
    "TermFreq = 3\n",
    "FixedRate = 0.0055"
   ]
  },
  {
   "cell_type": "code",
   "execution_count": 7,
   "metadata": {},
   "outputs": [
    {
     "name": "stdout",
     "output_type": "stream",
     "text": [
      "-26903238.279056296\n"
     ]
    }
   ],
   "source": [
    "CCS = DCrossCurrencySwap(evDate, Effective, Maturity, Position, CCYComm, DC360,\n",
    "                         USDLIBOR3M, CommFreq, CommSpread, 1000000.0, 1000000.0,\n",
    "                         CCYTerm, DC365, TermFreq, FixedRate, 27891000.0, 28000000.0,\n",
    "                         FXSpot, h_discTSComm, h_discTSTerm)\n",
    "Value = CCS.NPV()\n",
    "print(Value)"
   ]
  },
  {
   "cell_type": "code",
   "execution_count": null,
   "metadata": {},
   "outputs": [],
   "source": []
  }
 ],
 "metadata": {
  "kernelspec": {
   "display_name": "Python 3",
   "language": "python",
   "name": "python3"
  },
  "language_info": {
   "codemirror_mode": {
    "name": "ipython",
    "version": 3
   },
   "file_extension": ".py",
   "mimetype": "text/x-python",
   "name": "python",
   "nbconvert_exporter": "python",
   "pygments_lexer": "ipython3",
   "version": "3.8.3"
  }
 },
 "nbformat": 4,
 "nbformat_minor": 4
}
