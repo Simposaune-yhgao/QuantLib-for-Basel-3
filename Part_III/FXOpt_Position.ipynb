{
 "cells": [
  {
   "cell_type": "code",
   "execution_count": 1,
   "metadata": {},
   "outputs": [],
   "source": [
    "import QuantLib as ql\n",
    "import openpyxl as xl"
   ]
  },
  {
   "cell_type": "code",
   "execution_count": 2,
   "metadata": {},
   "outputs": [],
   "source": [
    "def DatetimeToDate(ADatetime):\n",
    "    ADate = ql.Date(ADatetime.day, ADatetime.month, ADatetime.year)\n",
    "    return ADate"
   ]
  },
  {
   "cell_type": "code",
   "execution_count": 3,
   "metadata": {},
   "outputs": [],
   "source": [
    "PstBook = xl.load_workbook('Pst_FXOption.xlsx', data_only=True)\n",
    "MktSheet = PstBook.worksheets[0]\n",
    "CommCCY = 'USD'\n",
    "TermCCY = 'TWD'\n",
    "Type = 'OPT'\n",
    "MTMDate = MktSheet.cell(1, 3).value\n",
    "FXSpot = MktSheet.cell(3, 6).value"
   ]
  },
  {
   "cell_type": "code",
   "execution_count": 4,
   "metadata": {},
   "outputs": [],
   "source": [
    "settings = ql.Settings.instance()\n",
    "evDate = DatetimeToDate(MTMDate)\n",
    "settings.setEvaluationDate(evDate)\n",
    "Cal = ql.NullCalendar()\n",
    "CommDC = ql.Actual360()\n",
    "TermDC = ql.Actual365Fixed()\n",
    "BDC = ql.Unadjusted\n",
    "settlementDays = 0"
   ]
  },
  {
   "cell_type": "code",
   "execution_count": 5,
   "metadata": {},
   "outputs": [
    {
     "name": "stdout",
     "output_type": "stream",
     "text": [
      "0.001459727696536763\n"
     ]
    }
   ],
   "source": [
    "CommZeroSP = MktSheet.cell(22, 6).value\n",
    "CommZero3M = MktSheet.cell(23, 6).value\n",
    "CommZero6M = MktSheet.cell(24, 6).value\n",
    "CommZero1Y = MktSheet.cell(25, 6).value\n",
    "print(CommZeroSP)"
   ]
  },
  {
   "cell_type": "code",
   "execution_count": 6,
   "metadata": {},
   "outputs": [
    {
     "name": "stdout",
     "output_type": "stream",
     "text": [
      "June 30th, 2021\n"
     ]
    }
   ],
   "source": [
    "DateSP = evDate\n",
    "Date3M = Cal.advance(evDate, 3, ql.Months, BDC, False)\n",
    "Date6M = Cal.advance(evDate, 6, ql.Months, BDC, False)\n",
    "Date1Y = Cal.advance(evDate, 1, ql.Years, BDC, False)\n",
    "print(DateSP)"
   ]
  },
  {
   "cell_type": "code",
   "execution_count": 7,
   "metadata": {},
   "outputs": [
    {
     "name": "stdout",
     "output_type": "stream",
     "text": [
      "-0.00392904297456824\n"
     ]
    }
   ],
   "source": [
    "TermZeroSP = MktSheet.cell(22, 12).value\n",
    "TermZero3M = MktSheet.cell(23, 12).value\n",
    "TermZero6M = MktSheet.cell(24, 12).value\n",
    "TermZero1Y = MktSheet.cell(25, 12).value\n",
    "print(TermZeroSP)"
   ]
  },
  {
   "cell_type": "code",
   "execution_count": 8,
   "metadata": {},
   "outputs": [
    {
     "data": {
      "text/plain": [
       "[0.001459727696536763,\n",
       " 0.001459727696619909,\n",
       " 0.002038942990682572,\n",
       " 0.002656419500050458]"
      ]
     },
     "execution_count": 8,
     "metadata": {},
     "output_type": "execute_result"
    }
   ],
   "source": [
    "ListDate = list([DateSP, Date3M, Date6M, Date1Y])\n",
    "ListCommRate = list([CommZeroSP, CommZero3M, CommZero6M, CommZero1Y])\n",
    "ListTermRate = list([TermZeroSP, TermZero3M, TermZero6M, TermZero1Y])\n",
    "ListDate\n",
    "ListCommRate"
   ]
  },
  {
   "cell_type": "code",
   "execution_count": 9,
   "metadata": {},
   "outputs": [
    {
     "data": {
      "text/plain": [
       "[-0.00392904297456824,\n",
       " -0.003929042973135284,\n",
       " -0.0006520395000015291,\n",
       " 0.001329938573603508]"
      ]
     },
     "execution_count": 9,
     "metadata": {},
     "output_type": "execute_result"
    }
   ],
   "source": [
    "ListTermRate"
   ]
  },
  {
   "cell_type": "code",
   "execution_count": 10,
   "metadata": {},
   "outputs": [],
   "source": [
    "VecDate = ql.DateVector(ListDate)\n",
    "VecCommRate = ql.DoubleVector(ListCommRate)\n",
    "VecTermRate = ql.DoubleVector(ListTermRate)"
   ]
  },
  {
   "cell_type": "code",
   "execution_count": 11,
   "metadata": {},
   "outputs": [],
   "source": [
    "TSCommZero = ql.ZeroCurve(VecDate, VecCommRate, CommDC, Cal, ql.Linear(), ql.Continuous, ql.Annual)\n",
    "h_TSCommZero = ql.YieldTermStructureHandle(TSCommZero)\n",
    "TSTermZero = ql.ZeroCurve(VecDate, VecTermRate, TermDC, Cal, ql.Linear(), ql.Continuous, ql.Annual)\n",
    "h_TSTermZero = ql.YieldTermStructureHandle(TSTermZero)"
   ]
  },
  {
   "cell_type": "code",
   "execution_count": 12,
   "metadata": {},
   "outputs": [
    {
     "data": {
      "text/plain": [
       "[26.75, 27, 27.25, 27.5, 27.75, 28, 28.25, 28.5, 28.75]"
      ]
     },
     "execution_count": 12,
     "metadata": {},
     "output_type": "execute_result"
    }
   ],
   "source": [
    "ListVolDate = list([Date6M, Date1Y])\n",
    "ListStrike = list()\n",
    "for i in range(9):\n",
    "    ListStrike.append(MktSheet.cell(31+i, 15).value)\n",
    "ListStrike"
   ]
  },
  {
   "cell_type": "code",
   "execution_count": 13,
   "metadata": {},
   "outputs": [],
   "source": [
    "VecVolDate = ql.DateVector(ListVolDate)\n",
    "VecStrike = ql.DoubleVector(ListStrike)\n",
    "M_Vol = ql.Matrix(9, 2, 0.0)"
   ]
  },
  {
   "cell_type": "code",
   "execution_count": 14,
   "metadata": {},
   "outputs": [
    {
     "name": "stdout",
     "output_type": "stream",
     "text": [
      "| 0.215209 0.113231 |\n",
      "| 0.138996 0.0627988 |\n",
      "| 0.0627825 0.0579179 |\n",
      "| 0.0535264 0.0570613 |\n",
      "| 0.0524342 0.0562047 |\n",
      "| 0.0527047 0.0561806 |\n",
      "| 0.0542796 0.0573503 |\n",
      "| 0.0558546 0.0585201 |\n",
      "| 0.0868235 0.0596899 |\n",
      "\n"
     ]
    }
   ],
   "source": [
    "for i in range(9):\n",
    "    for j in range(2):\n",
    "        M_Vol[i][j] = MktSheet.cell(31+i, 16+j).value\n",
    "print(M_Vol)"
   ]
  },
  {
   "cell_type": "code",
   "execution_count": 15,
   "metadata": {},
   "outputs": [],
   "source": [
    "DC365 = ql.Actual365Fixed()\n",
    "VolSurface = ql.BlackVarianceSurface(evDate, Cal, VecVolDate, VecStrike, M_Vol, DC365)\n",
    "h_VolSurface = ql.BlackVolTermStructureHandle(VolSurface)"
   ]
  },
  {
   "cell_type": "code",
   "execution_count": 16,
   "metadata": {},
   "outputs": [
    {
     "name": "stdout",
     "output_type": "stream",
     "text": [
      "0.05500941759027123\n"
     ]
    }
   ],
   "source": [
    "aVol = h_VolSurface.blackVol(0.75, 27.891)\n",
    "print(aVol)"
   ]
  },
  {
   "cell_type": "code",
   "execution_count": 17,
   "metadata": {},
   "outputs": [],
   "source": [
    "OPTSheet = PstBook['Option']"
   ]
  },
  {
   "cell_type": "code",
   "execution_count": 18,
   "metadata": {},
   "outputs": [
    {
     "name": "stdout",
     "output_type": "stream",
     "text": [
      "['OPT001', datetime.datetime(2021, 5, 19, 0, 0), datetime.datetime(2021, 5, 21, 0, 0), datetime.datetime(2021, 9, 21, 0, 0), 'Long', 'Call', 'VLN', 'USDTWD', 'USD', 'TWD', 28, 1000000]\n",
      "['OPT002', datetime.datetime(2021, 6, 13, 0, 0), datetime.datetime(2021, 6, 15, 0, 0), datetime.datetime(2021, 12, 15, 0, 0), 'Short', 'Call', 'VLN', 'USDTWD', 'USD', 'TWD', 27.8, 1000000]\n",
      "['OPT003', datetime.datetime(2021, 6, 21, 0, 0), datetime.datetime(2021, 6, 23, 0, 0), datetime.datetime(2022, 5, 23, 0, 0), 'Long', 'Put', 'VLN', 'USDTWD', 'USD', 'TWD', 28.1, 1000000]\n"
     ]
    }
   ],
   "source": [
    "start_row = 2\n",
    "end_row = 4\n",
    "start_col = 0\n",
    "end_col = 11\n",
    "recordcount = end_col - start_col + 1\n",
    "ListOPT = list()\n",
    "for i in range(start_row, end_row + 1):\n",
    "    row = [cell.value for cell in OPTSheet[i][start_col:end_col+1]]\n",
    "    ListOPT.append(row)\n",
    "    print(row)"
   ]
  },
  {
   "cell_type": "code",
   "execution_count": 19,
   "metadata": {},
   "outputs": [],
   "source": [
    "OPTBook = list()\n",
    "for i in range(len(ListOPT)):\n",
    "    row = ListOPT[i]\n",
    "    record = list()\n",
    "    record.append(row[0])\n",
    "    record.append(DatetimeToDate(row[1]))\n",
    "    record.append(DatetimeToDate(row[2]))\n",
    "    record.append(DatetimeToDate(row[3]))\n",
    "    record.append(row[4])\n",
    "    record.append(row[5])\n",
    "    record.append(row[6])\n",
    "    record.append(row[7])\n",
    "    record.append(row[8])\n",
    "    record.append(row[9])\n",
    "    record.append(row[10])\n",
    "    record.append(row[11])\n",
    "    OPTBook.append(record)"
   ]
  },
  {
   "cell_type": "code",
   "execution_count": 20,
   "metadata": {},
   "outputs": [
    {
     "data": {
      "text/plain": [
       "[['OPT001',\n",
       "  Date(19,5,2021),\n",
       "  Date(21,5,2021),\n",
       "  Date(21,9,2021),\n",
       "  'Long',\n",
       "  'Call',\n",
       "  'VLN',\n",
       "  'USDTWD',\n",
       "  'USD',\n",
       "  'TWD',\n",
       "  28,\n",
       "  1000000],\n",
       " ['OPT002',\n",
       "  Date(13,6,2021),\n",
       "  Date(15,6,2021),\n",
       "  Date(15,12,2021),\n",
       "  'Short',\n",
       "  'Call',\n",
       "  'VLN',\n",
       "  'USDTWD',\n",
       "  'USD',\n",
       "  'TWD',\n",
       "  27.8,\n",
       "  1000000],\n",
       " ['OPT003',\n",
       "  Date(21,6,2021),\n",
       "  Date(23,6,2021),\n",
       "  Date(23,5,2022),\n",
       "  'Long',\n",
       "  'Put',\n",
       "  'VLN',\n",
       "  'USDTWD',\n",
       "  'USD',\n",
       "  'TWD',\n",
       "  28.1,\n",
       "  1000000]]"
      ]
     },
     "execution_count": 20,
     "metadata": {},
     "output_type": "execute_result"
    }
   ],
   "source": [
    "OPTBook"
   ]
  },
  {
   "cell_type": "code",
   "execution_count": 21,
   "metadata": {},
   "outputs": [
    {
     "name": "stdout",
     "output_type": "stream",
     "text": [
      "214380.82208287125\n",
      "-421230.21349021135\n",
      "727194.1754706659\n"
     ]
    }
   ],
   "source": [
    "for i in range(len(OPTBook)):\n",
    "    #i = 0\n",
    "    record = OPTBook[i]\n",
    "    tradeDate = record[1]\n",
    "    maturityDate = record[3]\n",
    "    position = record[4]\n",
    "    OptClass = record[5]\n",
    "    OptType = record[6]\n",
    "    VolClass = record[7]\n",
    "    CommCCY = record[8]\n",
    "    TermCCY = record[9]\n",
    "    Strike = record[10]\n",
    "    CommAmt = record[11]    \n",
    "    EuExer = ql.EuropeanExercise(maturityDate)\n",
    "    if (OptClass == 'Call'):\n",
    "        VLPayoff = ql.PlainVanillaPayoff(ql.Option.Call, Strike)\n",
    "    else:\n",
    "        VLPayoff = ql.PlainVanillaPayoff(ql.Option.Put, Strike)    \n",
    "    anEuroOption = ql.EuropeanOption(VLPayoff, EuExer)\n",
    "    \n",
    "    Q_Spot = ql.SimpleQuote(FXSpot)\n",
    "    hQ_Spot = ql.QuoteHandle(Q_Spot)\n",
    "    GBSProcess = ql.GeneralizedBlackScholesProcess(hQ_Spot, h_TSCommZero, \n",
    "                                                   h_TSTermZero, h_VolSurface)\n",
    "    AEEngine = ql.AnalyticEuropeanEngine(GBSProcess)\n",
    "    anEuroOption.setPricingEngine(AEEngine)\n",
    "    if (position == 'Long'):\n",
    "        Sign = 1.0\n",
    "    else:\n",
    "        Sign = -1.0\n",
    "    \n",
    "    Value = Sign * CommAmt * anEuroOption.NPV()\n",
    "    print(Value)"
   ]
  },
  {
   "cell_type": "code",
   "execution_count": null,
   "metadata": {},
   "outputs": [],
   "source": []
  }
 ],
 "metadata": {
  "kernelspec": {
   "display_name": "Python 3",
   "language": "python",
   "name": "python3"
  },
  "language_info": {
   "codemirror_mode": {
    "name": "ipython",
    "version": 3
   },
   "file_extension": ".py",
   "mimetype": "text/x-python",
   "name": "python",
   "nbconvert_exporter": "python",
   "pygments_lexer": "ipython3",
   "version": "3.8.3"
  }
 },
 "nbformat": 4,
 "nbformat_minor": 4
}
