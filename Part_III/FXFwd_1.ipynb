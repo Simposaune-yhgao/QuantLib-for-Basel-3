{
 "cells": [
  {
   "cell_type": "code",
   "execution_count": 10,
   "metadata": {},
   "outputs": [],
   "source": [
    "import QuantLib as ql\n",
    "\n",
    "class DFXForward:\n",
    "    \n",
    "    def __init__(self, evDate, effective, maturity, position, CCYComm, NPAComm, \n",
    "                 CCYTerm, NPATerm, FXSpot, h_discTSComm, h_discTSTerm):\n",
    "        self._ValueDate = evDate\n",
    "        self._Effective = effective\n",
    "        self._Maturity = maturity\n",
    "        self._Position = position\n",
    "        self._CCYComm = CCYComm\n",
    "        self._NPAComm = NPAComm\n",
    "        self._CCYTerm = CCYTerm\n",
    "        self._NPATerm = NPATerm\n",
    "        self._FXSpot = FXSpot\n",
    "        self._H_discTSComm = h_discTSComm\n",
    "        self._H_discTSTerm = h_discTSTerm\n",
    "        \n",
    "    def NPV(self):\n",
    "        DfComm = self._H_discTSComm.discount(maturity)\n",
    "        DfTerm = self._H_discTSTerm.discount(maturity)\n",
    "        PVComm = DfComm * self._NPAComm\n",
    "        PVTerm = DfTerm * self._NPATerm\n",
    "        self._Value = self._Position * (PVComm * self._FXSpot - PVTerm)\n",
    "        return self._Value"
   ]
  },
  {
   "cell_type": "code",
   "execution_count": 11,
   "metadata": {},
   "outputs": [],
   "source": [
    "settings = ql.Settings.instance()\n",
    "evDate = ql.Date(11, 7, 2011)\n",
    "settings.setEvaluationDate(evDate)\n",
    "Cal = ql.NullCalendar()\n",
    "DC365 = ql.Actual365Fixed()\n",
    "DC360 = ql.Actual360()\n",
    "settlementDays = 0\n",
    "refDate = Cal.advance(evDate, settlementDays, ql.Days, ql.Following, False)\n",
    "BDC = ql.Unadjusted"
   ]
  },
  {
   "cell_type": "code",
   "execution_count": 12,
   "metadata": {},
   "outputs": [],
   "source": [
    "f = 0.01\n",
    "discTSComm = ql.FlatForward(settlementDays, Cal, f, DC360, ql.Simple, ql.Annual)\n",
    "h_discTSComm = ql.YieldTermStructureHandle(discTSComm)"
   ]
  },
  {
   "cell_type": "code",
   "execution_count": 13,
   "metadata": {},
   "outputs": [],
   "source": [
    "r = 0.02\n",
    "discTSTerm = ql.FlatForward(settlementDays, Cal, r, DC365, ql.Simple, ql.Annual)\n",
    "h_discTSTerm = ql.YieldTermStructureHandle(discTSTerm)"
   ]
  },
  {
   "cell_type": "code",
   "execution_count": 20,
   "metadata": {},
   "outputs": [],
   "source": [
    "effective = ql.Date(11, 7, 2011)\n",
    "maturity = ql.Date(11, 1, 2012)\n",
    "position = 1.0\n",
    "NPAComm = 1000\n",
    "CCYComm = 'USD'\n",
    "NPATerm = 28000\n",
    "CCYTerm = 'TWD'\n",
    "FXSpot = 27.9"
   ]
  },
  {
   "cell_type": "code",
   "execution_count": 23,
   "metadata": {},
   "outputs": [
    {
     "name": "stdout",
     "output_type": "stream",
     "text": [
      "37.60870116406659\n"
     ]
    }
   ],
   "source": [
    "FWD = DFXForward(refDate, effective, maturity, position, CCYComm, NPAComm, \n",
    "                 CCYTerm, NPATerm, FXSpot, h_discTSComm, h_discTSTerm)\n",
    "Value = FWD.NPV()\n",
    "print(Value)"
   ]
  },
  {
   "cell_type": "code",
   "execution_count": null,
   "metadata": {},
   "outputs": [],
   "source": []
  }
 ],
 "metadata": {
  "kernelspec": {
   "display_name": "Python 3",
   "language": "python",
   "name": "python3"
  },
  "language_info": {
   "codemirror_mode": {
    "name": "ipython",
    "version": 3
   },
   "file_extension": ".py",
   "mimetype": "text/x-python",
   "name": "python",
   "nbconvert_exporter": "python",
   "pygments_lexer": "ipython3",
   "version": "3.8.3"
  }
 },
 "nbformat": 4,
 "nbformat_minor": 4
}
