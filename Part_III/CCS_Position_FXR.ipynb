{
 "cells": [
  {
   "cell_type": "code",
   "execution_count": 1,
   "metadata": {},
   "outputs": [],
   "source": [
    "import QuantLib as ql\n",
    "import openpyxl as xl"
   ]
  },
  {
   "cell_type": "code",
   "execution_count": 2,
   "metadata": {},
   "outputs": [],
   "source": [
    "def DatetimeToDate(ADatetime):\n",
    "    ADate = ql.Date(ADatetime.day, ADatetime.month, ADatetime.year)\n",
    "    return ADate"
   ]
  },
  {
   "cell_type": "code",
   "execution_count": 3,
   "metadata": {},
   "outputs": [],
   "source": [
    "class DCrossCurrencySwap:    \n",
    "    def __init__(self, evDate, effective, maturity, position, CCYComm, CommDC, \n",
    "                 CommIdx, CommFreq, CommSpread, InitCommNPA, FinalCommNPA, \n",
    "                 CCYTerm, TermDC, TermFreq, TermRate, InitTermNPA, FinalTermNPA, \n",
    "                 FXSpot, h_discTSComm, h_discTSTerm):\n",
    "        self._ValueDate = evDate\n",
    "        self._EffectiveDate = effective\n",
    "        self._Maturity = maturity        \n",
    "        if position == 'Long':          \n",
    "            self._Position = 1.0\n",
    "        else:\n",
    "            self._Position = -1.0\n",
    "\n",
    "        self._CCYComm = CCYComm\n",
    "        self._CommDC = CommDC\n",
    "        self._CommIdx = CommIdx\n",
    "        self._InitCommNPA = InitCommNPA\n",
    "        self._FinalCommNPA = FinalCommNPA\n",
    "        self._CommSpread = CommSpread\n",
    "        self._CommFreq = CommFreq\n",
    "\n",
    "        self._CCYTerm = CCYTerm\n",
    "        self._TermDC = TermDC\n",
    "        self._InitTermNPA = InitTermNPA\n",
    "        self._FinalTermNPA = FinalTermNPA\n",
    "        self._TermRate = TermRate\n",
    "        self._TermFreq = TermFreq\n",
    "\n",
    "        self._FXSpot = FXSpot\n",
    "        self._H_discTSComm = h_discTSComm\n",
    "        self._H_discTSTerm = h_discTSTerm\n",
    "\n",
    "    def NPV(self):\n",
    "        _DGR = ql.DateGeneration.Backward\n",
    "        _BDC = ql.Unadjusted\n",
    "        _Cal = ql.NullCalendar()\n",
    "        schTerm = ql.Schedule(self._EffectiveDate, self._Maturity, \n",
    "                              ql.Period(3, ql.Months), _Cal, _BDC, _BDC, _DGR, False)\n",
    "        tenor = int((self._Maturity.year() - self._EffectiveDate.year()) \n",
    "                    * 12 / int(self._TermFreq))\n",
    "        ListCoupon = list()\n",
    "        for j in range(tenor):\n",
    "            ListCoupon.append(self._TermRate)\n",
    "            \n",
    "        VecCoupon = ql.DoubleVector(ListCoupon)\n",
    "        TermFaceAmt = self._FinalTermNPA\n",
    "        TermBond = ql.FixedRateBond(0, TermFaceAmt, schTerm, VecCoupon, self._TermDC, \n",
    "                                    BDC, TermFaceAmt)\n",
    "        TermBondEngine = ql.DiscountingBondEngine(self._H_discTSTerm)\n",
    "        TermBond.setPricingEngine(TermBondEngine)\n",
    "        TermValue = TermBond.dirtyPrice()\n",
    "        \n",
    "        schComm = ql.Schedule(self._EffectiveDate, self._Maturity, \n",
    "                              ql.Period(3, ql.Months), _Cal, _BDC, _BDC, _DGR, False)\n",
    "        tenor = int((self._Maturity.year() - self._EffectiveDate.year()) \n",
    "                    * 12 / int(self._CommFreq))\n",
    "        ListSpread = list()\n",
    "        ListGearing = list()\n",
    "        for j in range(tenor):\n",
    "            ListSpread.append(self._CommSpread)\n",
    "            ListGearing.append(1.0)\n",
    "        VecSpread = ql.DoubleVector(ListSpread)\n",
    "        VecGearing = ql.DoubleVector(ListGearing)\n",
    "        CommFaceAmt = self._FinalCommNPA\n",
    "        CommBond = ql.FloatingRateBond(0, CommFaceAmt, schComm, self._CommIdx, \n",
    "                                       self._CommDC, _BDC, 2, VecGearing, VecSpread)\n",
    "        CommBondEngine = ql.DiscountingBondEngine(self._H_discTSComm)\n",
    "        CommBond.setPricingEngine(CommBondEngine)\n",
    "        CommValue = CommBond.dirtyPrice()\n",
    "        \n",
    "        if(evDate < self._EffectiveDate):\n",
    "            dfComm = self._H_discTSComm.discount(self._EffectiveDate)\n",
    "            dfTerm = self._H_discTSTerm.discount(self._EffectiveDate)\n",
    "            initValue = (self._InitTermNPA * dfTerm \n",
    "                         - self._FXSpot * self._InitCommNPA * dfComm)\n",
    "            self._Value = self._Position * (CommValue * self._FXSpot - TermValue \n",
    "                                            + initValue)\n",
    "        else:\n",
    "            self._Value = self._Position * (CommValue * self._FXSpot - TermValue)\n",
    "        return self._Value"
   ]
  },
  {
   "cell_type": "code",
   "execution_count": 4,
   "metadata": {},
   "outputs": [],
   "source": [
    "PstBook = xl.load_workbook('Pst_CCS.xlsx', data_only=True)\n",
    "MktSheet = PstBook.worksheets[0]\n",
    "CommCCY = 'USD'\n",
    "TermCCY = 'TWD'\n",
    "Type = 'CCS'\n",
    "MTMDate = MktSheet.cell(1, 3).value\n",
    "FXSpot = MktSheet.cell(3, 6).value"
   ]
  },
  {
   "cell_type": "code",
   "execution_count": 5,
   "metadata": {},
   "outputs": [],
   "source": [
    "settings = ql.Settings.instance()\n",
    "evDate = DatetimeToDate(MTMDate)\n",
    "settings.setEvaluationDate(evDate)\n",
    "Cal = ql.NullCalendar()\n",
    "CommDC = ql.Actual360()\n",
    "TermDC = ql.Actual365Fixed()\n",
    "BDC = ql.Unadjusted\n",
    "settlementDays = 0"
   ]
  },
  {
   "cell_type": "code",
   "execution_count": 6,
   "metadata": {},
   "outputs": [
    {
     "name": "stdout",
     "output_type": "stream",
     "text": [
      "0.004795999997252601\n"
     ]
    }
   ],
   "source": [
    "TermZeroSP = MktSheet.cell(43, 5).value\n",
    "TermZero3M = MktSheet.cell(44, 5).value\n",
    "TermZero6M = MktSheet.cell(45, 5).value\n",
    "TermZero1Y = MktSheet.cell(46, 5).value\n",
    "TermZero2Y = MktSheet.cell(47, 5).value\n",
    "TermZero3Y = MktSheet.cell(48, 5).value\n",
    "TermZero5Y = MktSheet.cell(49, 5).value\n",
    "TermZero10Y = MktSheet.cell(50, 5).value\n",
    "TermZero15Y = MktSheet.cell(51, 5).value\n",
    "TermZero20Y = MktSheet.cell(52, 5).value\n",
    "TermZero30Y = MktSheet.cell(53, 5).value\n",
    "print(TermZeroSP)"
   ]
  },
  {
   "cell_type": "code",
   "execution_count": 7,
   "metadata": {},
   "outputs": [
    {
     "name": "stdout",
     "output_type": "stream",
     "text": [
      "June 30th, 2021\n"
     ]
    }
   ],
   "source": [
    "DateSP = evDate\n",
    "Date3M = Cal.advance(evDate, 3, ql.Months, BDC, False)\n",
    "Date6M = Cal.advance(evDate, 6, ql.Months, BDC, False)\n",
    "Date1Y = Cal.advance(evDate, 1, ql.Years, BDC, False)\n",
    "Date2Y = Cal.advance(evDate, 2, ql.Years, BDC, False)\n",
    "Date3Y = Cal.advance(evDate, 3, ql.Years, BDC, False)\n",
    "Date5Y = Cal.advance(evDate, 5, ql.Years, BDC, False)\n",
    "Date10Y = Cal.advance(evDate, 10, ql.Years, BDC, False)\n",
    "Date15Y = Cal.advance(evDate, 15, ql.Years, BDC, False)\n",
    "Date20Y = Cal.advance(evDate, 20, ql.Years, BDC, False)\n",
    "Date30Y = Cal.advance(evDate, 30, ql.Years, BDC, False)\n",
    "print(DateSP)"
   ]
  },
  {
   "cell_type": "code",
   "execution_count": 8,
   "metadata": {},
   "outputs": [
    {
     "name": "stdout",
     "output_type": "stream",
     "text": [
      "0.001459727696536763\n"
     ]
    }
   ],
   "source": [
    "CommZeroSP = MktSheet.cell(43, 25).value\n",
    "CommZero3M = MktSheet.cell(44, 25).value\n",
    "CommZero6M = MktSheet.cell(45, 25).value\n",
    "CommZero1Y = MktSheet.cell(46, 25).value\n",
    "CommZero2Y = MktSheet.cell(47, 25).value\n",
    "CommZero3Y = MktSheet.cell(48, 25).value\n",
    "CommZero5Y = MktSheet.cell(49, 25).value\n",
    "CommZero10Y = MktSheet.cell(50, 25).value\n",
    "CommZero15Y = MktSheet.cell(51, 25).value\n",
    "CommZero20Y = MktSheet.cell(52, 25).value\n",
    "CommZero30Y = MktSheet.cell(53, 25).value\n",
    "print(CommZeroSP)"
   ]
  },
  {
   "cell_type": "code",
   "execution_count": 9,
   "metadata": {},
   "outputs": [
    {
     "data": {
      "text/plain": [
       "[0.004795999997252601,\n",
       " 0.004795999997762682,\n",
       " 0.005679705459626832,\n",
       " 0.005055409226605943,\n",
       " 0.005392645814005983,\n",
       " 0.005923963111383993,\n",
       " 0.00685202799427061,\n",
       " 0.00789843471265416,\n",
       " 0.008384574081848417,\n",
       " 0.00862747768539673,\n",
       " 0.008870403457750699]"
      ]
     },
     "execution_count": 9,
     "metadata": {},
     "output_type": "execute_result"
    }
   ],
   "source": [
    "ListDate = list([DateSP, Date3M, Date6M, Date1Y, Date2Y, Date3Y, Date5Y, Date10Y, \n",
    "                 Date15Y, Date20Y, Date30Y])\n",
    "ListTermRate = list([TermZeroSP, TermZero3M, TermZero6M, TermZero1Y, TermZero2Y, \n",
    "                     TermZero3Y, TermZero5Y, TermZero10Y, TermZero15Y, TermZero20Y, \n",
    "                     TermZero30Y])\n",
    "ListCommRate = list([CommZeroSP, CommZero3M, CommZero6M, CommZero1Y, CommZero2Y, \n",
    "                     CommZero3Y, CommZero5Y, CommZero10Y, CommZero15Y, CommZero20Y, \n",
    "                     CommZero30Y])\n",
    "ListTermRate"
   ]
  },
  {
   "cell_type": "code",
   "execution_count": 10,
   "metadata": {},
   "outputs": [],
   "source": [
    "VecDate = ql.DateVector(ListDate)\n",
    "VecTermRate = ql.DoubleVector(ListTermRate)\n",
    "VecCommRate = ql.DoubleVector(ListCommRate)"
   ]
  },
  {
   "cell_type": "code",
   "execution_count": 11,
   "metadata": {},
   "outputs": [],
   "source": [
    "TSTermZero = ql.ZeroCurve(VecDate, VecTermRate, TermDC, Cal, ql.Linear(), \n",
    "                          ql.Continuous, ql.Annual)\n",
    "h_TSTermZero = ql.YieldTermStructureHandle(TSTermZero)\n",
    "TSCommZero = ql.ZeroCurve(VecDate, VecCommRate, CommDC, Cal, ql.Linear(),\n",
    "                          ql.Continuous, ql.Annual)\n",
    "h_TSCommZero = ql.YieldTermStructureHandle(TSCommZero)"
   ]
  },
  {
   "cell_type": "code",
   "execution_count": 12,
   "metadata": {},
   "outputs": [],
   "source": [
    "P3M = ql.Period(3, ql.Months)\n",
    "P6M = ql.Period(6, ql.Months)\n",
    "USD = ql.USDCurrency()\n",
    "EOM = False\n",
    "FixingDays = 2\n",
    "USDLIBOR3M = ql.IborIndex(\"LIBOR3M\", P3M, FixingDays, USD, Cal, BDC, EOM, CommDC, h_TSCommZero)\n",
    "USDLIBOR6M = ql.IborIndex(\"LIBOR6M\", P6M, FixingDays, USD, Cal, BDC, EOM, CommDC, h_TSCommZero)"
   ]
  },
  {
   "cell_type": "code",
   "execution_count": 13,
   "metadata": {},
   "outputs": [],
   "source": [
    "L3MFixingDates = list()\n",
    "L3MFixingRates = list()\n",
    "for i in range(33, 131):\n",
    "    FixDate = DatetimeToDate(MktSheet.cell(i, 29).value)\n",
    "    FixRate = MktSheet.cell(i, 30).value / 100.0\n",
    "    L3MFixingDates.append(FixDate)\n",
    "    L3MFixingRates.append(FixRate)"
   ]
  },
  {
   "cell_type": "code",
   "execution_count": 14,
   "metadata": {},
   "outputs": [],
   "source": [
    "L6MFixingDates = list()\n",
    "L6MFixingRates = list()\n",
    "for i in range(33, 221):\n",
    "    FixDate = DatetimeToDate(MktSheet.cell(i, 32).value)\n",
    "    FixRate = MktSheet.cell(i, 33).value / 100.0\n",
    "    L6MFixingDates.append(FixDate)\n",
    "    L6MFixingRates.append(FixRate)"
   ]
  },
  {
   "cell_type": "code",
   "execution_count": 15,
   "metadata": {},
   "outputs": [],
   "source": [
    "L3MVecFixingDates = ql.DateVector(L3MFixingDates)\n",
    "L3MVecFixingRates = ql.DoubleVector(L3MFixingRates)\n",
    "USDLIBOR3M.addFixings(L3MVecFixingDates, L3MVecFixingRates, True)"
   ]
  },
  {
   "cell_type": "code",
   "execution_count": 16,
   "metadata": {},
   "outputs": [],
   "source": [
    "L6MVecFixingDates = ql.DateVector(L6MFixingDates)\n",
    "L6MVecFixingRates = ql.DoubleVector(L6MFixingRates)\n",
    "USDLIBOR6M.addFixings(L6MVecFixingDates, L6MVecFixingRates, True)"
   ]
  },
  {
   "cell_type": "code",
   "execution_count": 17,
   "metadata": {},
   "outputs": [
    {
     "name": "stdout",
     "output_type": "stream",
     "text": [
      "['CCS001', datetime.datetime(2021, 6, 30, 0, 0), datetime.datetime(2021, 7, 2, 0, 0), datetime.datetime(2023, 7, 2, 0, 0), 'Long', 'TWD', 27891000, 28000000, 3, 0.0055, 'USD', 1000000, 1000000, 3, 0]\n",
      "['CCS002', datetime.datetime(2021, 6, 30, 0, 0), datetime.datetime(2021, 7, 2, 0, 0), datetime.datetime(2025, 7, 2, 0, 0), 'Short', 'TWD', 27891000, 28500000, 3, 0.006, 'USD', 2000000, 2000000, 3, 0]\n",
      "['CCS003', datetime.datetime(2021, 6, 30, 0, 0), datetime.datetime(2021, 7, 2, 0, 0), datetime.datetime(2025, 7, 2, 0, 0), 'Long', 'TWD', 27891000, 28750000, 3, 0.0065, 'USD', 1500000, 1500000, 3, 0]\n"
     ]
    }
   ],
   "source": [
    "CCSSheet = PstBook['CCS']\n",
    "start_row = 2\n",
    "end_row = 4\n",
    "start_col = 0\n",
    "end_col = 14\n",
    "recordcount = end_col - start_col + 1\n",
    "ListCCS = list()\n",
    "for i in range(start_row, end_row + 1):\n",
    "    row = [cell.value for cell in CCSSheet[i][start_col:end_col+1]]\n",
    "    ListCCS.append(row)\n",
    "    print(row)"
   ]
  },
  {
   "cell_type": "code",
   "execution_count": 18,
   "metadata": {},
   "outputs": [],
   "source": [
    "CCSBook = list()\n",
    "for i in range(len(ListCCS)):\n",
    "    row = ListCCS[i]\n",
    "    record = list()\n",
    "    record.append(row[0])\n",
    "    record.append(DatetimeToDate(row[1]))\n",
    "    record.append(DatetimeToDate(row[2]))\n",
    "    record.append(DatetimeToDate(row[3]))\n",
    "    record.append(row[4])\n",
    "    record.append(row[5])\n",
    "    record.append(row[6])\n",
    "    record.append(row[7])\n",
    "    record.append(row[8])\n",
    "    record.append(row[9])\n",
    "    record.append(row[10])\n",
    "    record.append(row[11])\n",
    "    record.append(row[12])\n",
    "    record.append(row[13])\n",
    "    record.append(row[14])\n",
    "    CCSBook.append(record)"
   ]
  },
  {
   "cell_type": "code",
   "execution_count": 19,
   "metadata": {},
   "outputs": [
    {
     "data": {
      "text/plain": [
       "[['CCS001',\n",
       "  Date(30,6,2021),\n",
       "  Date(2,7,2021),\n",
       "  Date(2,7,2023),\n",
       "  'Long',\n",
       "  'TWD',\n",
       "  27891000,\n",
       "  28000000,\n",
       "  3,\n",
       "  0.0055,\n",
       "  'USD',\n",
       "  1000000,\n",
       "  1000000,\n",
       "  3,\n",
       "  0],\n",
       " ['CCS002',\n",
       "  Date(30,6,2021),\n",
       "  Date(2,7,2021),\n",
       "  Date(2,7,2025),\n",
       "  'Short',\n",
       "  'TWD',\n",
       "  27891000,\n",
       "  28500000,\n",
       "  3,\n",
       "  0.006,\n",
       "  'USD',\n",
       "  2000000,\n",
       "  2000000,\n",
       "  3,\n",
       "  0],\n",
       " ['CCS003',\n",
       "  Date(30,6,2021),\n",
       "  Date(2,7,2021),\n",
       "  Date(2,7,2025),\n",
       "  'Long',\n",
       "  'TWD',\n",
       "  27891000,\n",
       "  28750000,\n",
       "  3,\n",
       "  0.0065,\n",
       "  'USD',\n",
       "  1500000,\n",
       "  1500000,\n",
       "  3,\n",
       "  0]]"
      ]
     },
     "execution_count": 19,
     "metadata": {},
     "output_type": "execute_result"
    }
   ],
   "source": [
    "CCSBook"
   ]
  },
  {
   "cell_type": "code",
   "execution_count": 20,
   "metadata": {},
   "outputs": [
    {
     "name": "stdout",
     "output_type": "stream",
     "text": [
      "-27696374.575095322\n",
      "-27975254.43287391\n",
      "-31879572.441774204\n",
      "-23513176.70841644\n",
      "-27887985.777858645 8.568167686462402e-08 -8.568167686462402e-08\n",
      "55667746.87216\n",
      "56225534.4680997\n",
      "64034560.81125547\n",
      "47300932.93306454\n",
      "55778759.59396958 -2.9802322387695312e-08 2.2351741790771484e-08\n",
      "-41966037.81051023\n",
      "-42384371.53736938\n",
      "-48241043.713397406\n",
      "-35691031.90762305\n",
      "-41833372.68591449 -0.0 -7.450580596923828e-09\n"
     ]
    }
   ],
   "source": [
    "SenSheet = PstBook['FXR']\n",
    "for i in range(len(CCSBook)):\n",
    "    record = CCSBook[i]\n",
    "    effectivedate = record[2]\n",
    "    maturitydate = record[3]\n",
    "    position = record[4]\n",
    "    commccy = record[10]\n",
    "    commfreq = record[13]\n",
    "    commspread = record[14]\n",
    "    initcommnpa = record[11]\n",
    "    finalcommnpa = record[12]\n",
    "    termccy = record[5]\n",
    "    termfreq = record[8]\n",
    "    termrate = record[9]\n",
    "    inittermnpa = record[6]\n",
    "    finaltermnpa = record[7]\n",
    "    CCS = DCrossCurrencySwap(evDate, effectivedate, maturitydate, position, commccy, \n",
    "                             CommDC, USDLIBOR3M, commfreq, commspread, \n",
    "                             initcommnpa, finalcommnpa, termccy, TermDC, \n",
    "                             termfreq, termrate, inittermnpa, finaltermnpa, \n",
    "                             FXSpot, h_TSCommZero, h_TSTermZero)        \n",
    "    Value = CCS.NPV()\n",
    "    print(Value)\n",
    "    \n",
    "    FXSpot_1 = FXSpot * 1.01\n",
    "    CCS = DCrossCurrencySwap(evDate, effectivedate, maturitydate, position, commccy, \n",
    "                             CommDC, USDLIBOR3M, commfreq, commspread, \n",
    "                             initcommnpa, finalcommnpa, termccy, TermDC, \n",
    "                             termfreq, termrate, inittermnpa, finaltermnpa, \n",
    "                             FXSpot_1, h_TSCommZero, h_TSTermZero)    \n",
    "    Value_1 = CCS.NPV()\n",
    "    Delta = (Value_1 - Value) * 100.0\n",
    "    print(Value_1)\n",
    "    \n",
    "    FXSpot_Up = FXSpot * 1.15\n",
    "    CCS = DCrossCurrencySwap(evDate, effectivedate, maturitydate, position, commccy, \n",
    "                             CommDC, USDLIBOR3M, commfreq, commspread, \n",
    "                             initcommnpa, finalcommnpa, termccy, TermDC, \n",
    "                             termfreq, termrate, inittermnpa, finaltermnpa, \n",
    "                             FXSpot_Up, h_TSCommZero, h_TSTermZero)            \n",
    "    Value_Up = CCS.NPV()\n",
    "    print(Value_Up)\n",
    "    \n",
    "    FXSpot_Dn = FXSpot * 0.85\n",
    "    CCS = DCrossCurrencySwap(evDate, effectivedate, maturitydate, position, commccy, \n",
    "                             CommDC, USDLIBOR3M, commfreq, commspread, \n",
    "                             initcommnpa, finalcommnpa, termccy, TermDC, \n",
    "                             termfreq, termrate, inittermnpa, finaltermnpa, \n",
    "                             FXSpot_Dn, h_TSCommZero, h_TSTermZero)    \n",
    "    Value_Dn = CCS.NPV()\n",
    "    print(Value_Dn)\n",
    "    \n",
    "    Curv_Up = (-((Value_Up - Value) - 0.15 * Delta))\n",
    "    Curv_Dn = (-((Value_Dn - Value) + 0.15 * Delta))    \n",
    "    \n",
    "    SenSheet.cell(i+5, 1).value = record[0]\n",
    "    SenSheet.cell(i+5, 2).value = Value\n",
    "    SenSheet.cell(i+5, 3).value = CommCCY\n",
    "    SenSheet.cell(i+5, 4).value = Delta\n",
    "    SenSheet.cell(i+5, 6).value = Curv_Up\n",
    "    SenSheet.cell(i+5, 8).value = Curv_Dn\n",
    "    print(Delta, Curv_Up, Curv_Dn)\n",
    "    \n",
    "PstBook.save('Pst_CCS.xlsx')\n",
    "PstBook.close()"
   ]
  },
  {
   "cell_type": "code",
   "execution_count": null,
   "metadata": {},
   "outputs": [],
   "source": []
  }
 ],
 "metadata": {
  "kernelspec": {
   "display_name": "Python 3",
   "language": "python",
   "name": "python3"
  },
  "language_info": {
   "codemirror_mode": {
    "name": "ipython",
    "version": 3
   },
   "file_extension": ".py",
   "mimetype": "text/x-python",
   "name": "python",
   "nbconvert_exporter": "python",
   "pygments_lexer": "ipython3",
   "version": "3.8.3"
  }
 },
 "nbformat": 4,
 "nbformat_minor": 4
}
