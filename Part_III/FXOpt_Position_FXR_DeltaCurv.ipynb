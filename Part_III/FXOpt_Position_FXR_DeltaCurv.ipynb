{
 "cells": [
  {
   "cell_type": "code",
   "execution_count": 1,
   "metadata": {},
   "outputs": [],
   "source": [
    "import QuantLib as ql\n",
    "import openpyxl as xl"
   ]
  },
  {
   "cell_type": "code",
   "execution_count": 2,
   "metadata": {},
   "outputs": [],
   "source": [
    "def DatetimeToDate(ADatetime):\n",
    "    ADate = ql.Date(ADatetime.day, ADatetime.month, ADatetime.year)\n",
    "    return ADate"
   ]
  },
  {
   "cell_type": "code",
   "execution_count": 3,
   "metadata": {},
   "outputs": [],
   "source": [
    "PstBook = xl.load_workbook('Pst_FXOption.xlsx', data_only=True)\n",
    "MktSheet = PstBook.worksheets[0]\n",
    "CommCCY = 'USD'\n",
    "TermCCY = 'TWD'\n",
    "Type = 'OPT'\n",
    "MTMDate = MktSheet.cell(1, 3).value\n",
    "FXSpot = MktSheet.cell(3, 6).value"
   ]
  },
  {
   "cell_type": "code",
   "execution_count": 4,
   "metadata": {},
   "outputs": [],
   "source": [
    "settings = ql.Settings.instance()\n",
    "evDate = DatetimeToDate(MTMDate)\n",
    "settings.setEvaluationDate(evDate)\n",
    "Cal = ql.NullCalendar()\n",
    "CommDC = ql.Actual360()\n",
    "TermDC = ql.Actual365Fixed()\n",
    "DC365 = ql.Actual365Fixed()\n",
    "BDC = ql.Unadjusted\n",
    "settlementDays = 0"
   ]
  },
  {
   "cell_type": "code",
   "execution_count": 5,
   "metadata": {},
   "outputs": [
    {
     "name": "stdout",
     "output_type": "stream",
     "text": [
      "0.001459727696536763\n"
     ]
    }
   ],
   "source": [
    "CommZeroSP = MktSheet.cell(22, 6).value\n",
    "CommZero3M = MktSheet.cell(23, 6).value\n",
    "CommZero6M = MktSheet.cell(24, 6).value\n",
    "CommZero1Y = MktSheet.cell(25, 6).value\n",
    "print(CommZeroSP)"
   ]
  },
  {
   "cell_type": "code",
   "execution_count": 6,
   "metadata": {},
   "outputs": [
    {
     "name": "stdout",
     "output_type": "stream",
     "text": [
      "June 30th, 2021\n"
     ]
    }
   ],
   "source": [
    "DateSP = evDate\n",
    "Date3M = Cal.advance(evDate, 3, ql.Months, BDC, False)\n",
    "Date6M = Cal.advance(evDate, 6, ql.Months, BDC, False)\n",
    "Date1Y = Cal.advance(evDate, 1, ql.Years, BDC, False)\n",
    "print(DateSP)"
   ]
  },
  {
   "cell_type": "code",
   "execution_count": 7,
   "metadata": {},
   "outputs": [
    {
     "name": "stdout",
     "output_type": "stream",
     "text": [
      "-0.00392904297456824\n"
     ]
    }
   ],
   "source": [
    "TermZeroSP = MktSheet.cell(22, 12).value\n",
    "TermZero3M = MktSheet.cell(23, 12).value\n",
    "TermZero6M = MktSheet.cell(24, 12).value\n",
    "TermZero1Y = MktSheet.cell(25, 12).value\n",
    "print(TermZeroSP)"
   ]
  },
  {
   "cell_type": "code",
   "execution_count": 8,
   "metadata": {},
   "outputs": [
    {
     "data": {
      "text/plain": [
       "[-0.00392904297456824,\n",
       " -0.003929042973135284,\n",
       " -0.0006520395000015291,\n",
       " 0.001329938573603508]"
      ]
     },
     "execution_count": 8,
     "metadata": {},
     "output_type": "execute_result"
    }
   ],
   "source": [
    "ListDate = list([DateSP, Date3M, Date6M, Date1Y])\n",
    "ListCommRate = list([CommZeroSP, CommZero3M, CommZero6M, CommZero1Y])\n",
    "ListTermRate = list([TermZeroSP, TermZero3M, TermZero6M, TermZero1Y])\n",
    "ListDate\n",
    "ListCommRate\n",
    "ListTermRate"
   ]
  },
  {
   "cell_type": "code",
   "execution_count": 9,
   "metadata": {},
   "outputs": [],
   "source": [
    "VecDate = ql.DateVector(ListDate)\n",
    "VecCommRate = ql.DoubleVector(ListCommRate)\n",
    "VecTermRate = ql.DoubleVector(ListTermRate)"
   ]
  },
  {
   "cell_type": "code",
   "execution_count": 10,
   "metadata": {},
   "outputs": [],
   "source": [
    "TSCommZero = ql.ZeroCurve(VecDate, VecCommRate, CommDC, Cal, ql.Linear(), \n",
    "                          ql.Continuous, ql.Annual)\n",
    "h_TSCommZero = ql.YieldTermStructureHandle(TSCommZero)\n",
    "TSTermZero = ql.ZeroCurve(VecDate, VecTermRate, TermDC, Cal, ql.Linear(), \n",
    "                          ql.Continuous, ql.Annual)\n",
    "h_TSTermZero = ql.YieldTermStructureHandle(TSTermZero)"
   ]
  },
  {
   "cell_type": "code",
   "execution_count": 11,
   "metadata": {},
   "outputs": [
    {
     "data": {
      "text/plain": [
       "[26.75, 27, 27.25, 27.5, 27.75, 28, 28.25, 28.5, 28.75]"
      ]
     },
     "execution_count": 11,
     "metadata": {},
     "output_type": "execute_result"
    }
   ],
   "source": [
    "ListVolDate = list([Date6M, Date1Y])\n",
    "ListStrike = list()\n",
    "for i in range(9):\n",
    "    ListStrike.append(MktSheet.cell(31+i, 15).value)\n",
    "ListStrike"
   ]
  },
  {
   "cell_type": "code",
   "execution_count": 12,
   "metadata": {},
   "outputs": [
    {
     "name": "stdout",
     "output_type": "stream",
     "text": [
      "2\n",
      "9\n"
     ]
    }
   ],
   "source": [
    "NoVolCurve = len(ListVolDate)\n",
    "print(NoVolCurve)\n",
    "NoStrike = len(ListStrike)\n",
    "print(NoStrike)"
   ]
  },
  {
   "cell_type": "code",
   "execution_count": 13,
   "metadata": {},
   "outputs": [],
   "source": [
    "VecVolDate = ql.DateVector(ListVolDate)\n",
    "VecStrike = ql.DoubleVector(ListStrike)\n",
    "M_Vol = ql.Matrix(9, 2, 0.0)"
   ]
  },
  {
   "cell_type": "code",
   "execution_count": 14,
   "metadata": {},
   "outputs": [
    {
     "name": "stdout",
     "output_type": "stream",
     "text": [
      "| 0.215209 0.113231 |\n",
      "| 0.138996 0.0627988 |\n",
      "| 0.0627825 0.0579179 |\n",
      "| 0.0535264 0.0570613 |\n",
      "| 0.0524342 0.0562047 |\n",
      "| 0.0527047 0.0561806 |\n",
      "| 0.0542796 0.0573503 |\n",
      "| 0.0558546 0.0585201 |\n",
      "| 0.0868235 0.0596899 |\n",
      "\n"
     ]
    }
   ],
   "source": [
    "for i in range(NoStrike):\n",
    "    for j in range(NoVolCurve):\n",
    "        M_Vol[i][j] = MktSheet.cell(31+i, 16+j).value\n",
    "print(M_Vol)   "
   ]
  },
  {
   "cell_type": "code",
   "execution_count": 15,
   "metadata": {},
   "outputs": [],
   "source": [
    "ListM_Vol = list()\n",
    "ListM_Vol.append(M_Vol)\n",
    "for k in range(NoVolCurve):\n",
    "    NewM_Vol = ql.Matrix(9, 2, 0.0)    \n",
    "    for i in range(NoStrike): \n",
    "        for j in range(NoVolCurve):\n",
    "            if(j==k):\n",
    "                NewM_Vol[i][k] = M_Vol[i][k] + 0.0001\n",
    "            else:\n",
    "                NewM_Vol[i][j] = M_Vol[i][j]\n",
    "    ListM_Vol.append(NewM_Vol)"
   ]
  },
  {
   "cell_type": "code",
   "execution_count": 16,
   "metadata": {},
   "outputs": [
    {
     "name": "stdout",
     "output_type": "stream",
     "text": [
      "3\n",
      "| 0.215209 0.113231 |\n",
      "| 0.138996 0.0627988 |\n",
      "| 0.0627825 0.0579179 |\n",
      "| 0.0535264 0.0570613 |\n",
      "| 0.0524342 0.0562047 |\n",
      "| 0.0527047 0.0561806 |\n",
      "| 0.0542796 0.0573503 |\n",
      "| 0.0558546 0.0585201 |\n",
      "| 0.0868235 0.0596899 |\n",
      "\n",
      "| 0.215309 0.113231 |\n",
      "| 0.139096 0.0627988 |\n",
      "| 0.0628825 0.0579179 |\n",
      "| 0.0536264 0.0570613 |\n",
      "| 0.0525342 0.0562047 |\n",
      "| 0.0528047 0.0561806 |\n",
      "| 0.0543796 0.0573503 |\n",
      "| 0.0559546 0.0585201 |\n",
      "| 0.0869235 0.0596899 |\n",
      "\n",
      "| 0.215209 0.113331 |\n",
      "| 0.138996 0.0628988 |\n",
      "| 0.0627825 0.0580179 |\n",
      "| 0.0535264 0.0571613 |\n",
      "| 0.0524342 0.0563047 |\n",
      "| 0.0527047 0.0562806 |\n",
      "| 0.0542796 0.0574503 |\n",
      "| 0.0558546 0.0586201 |\n",
      "| 0.0868235 0.0597899 |\n",
      "\n"
     ]
    }
   ],
   "source": [
    "print(len(ListM_Vol))\n",
    "print(ListM_Vol[0])\n",
    "print(ListM_Vol[1])\n",
    "print(ListM_Vol[2])"
   ]
  },
  {
   "cell_type": "code",
   "execution_count": 17,
   "metadata": {},
   "outputs": [],
   "source": [
    "Listh_VolSurface = list()\n",
    "for k in range(NoVolCurve+1):\n",
    "    NewVolSurface = ql.BlackVarianceSurface(evDate, Cal, VecVolDate, VecStrike,\n",
    "                                            ListM_Vol[k], DC365)\n",
    "    Newh_VolSurface = ql.BlackVolTermStructureHandle(NewVolSurface)\n",
    "    Listh_VolSurface.append(Newh_VolSurface)"
   ]
  },
  {
   "cell_type": "code",
   "execution_count": 18,
   "metadata": {},
   "outputs": [
    {
     "name": "stdout",
     "output_type": "stream",
     "text": [
      "3\n"
     ]
    }
   ],
   "source": [
    "print(len(Listh_VolSurface))"
   ]
  },
  {
   "cell_type": "code",
   "execution_count": 19,
   "metadata": {},
   "outputs": [
    {
     "name": "stdout",
     "output_type": "stream",
     "text": [
      "0.05500941759027123\n"
     ]
    }
   ],
   "source": [
    "aVol = Listh_VolSurface[0].blackVol(0.75, 27.891)\n",
    "print(aVol)"
   ]
  },
  {
   "cell_type": "code",
   "execution_count": 20,
   "metadata": {},
   "outputs": [],
   "source": [
    "OPTSheet = PstBook['Option']"
   ]
  },
  {
   "cell_type": "code",
   "execution_count": 21,
   "metadata": {},
   "outputs": [
    {
     "name": "stdout",
     "output_type": "stream",
     "text": [
      "['OPT001', datetime.datetime(2021, 5, 19, 0, 0), datetime.datetime(2021, 5, 21, 0, 0), datetime.datetime(2021, 9, 21, 0, 0), 'Long', 'Call', 'VLN', 'USDTWD', 'USD', 'TWD', 28, 1000000]\n",
      "['OPT002', datetime.datetime(2021, 6, 13, 0, 0), datetime.datetime(2021, 6, 15, 0, 0), datetime.datetime(2021, 12, 15, 0, 0), 'Short', 'Call', 'VLN', 'USDTWD', 'USD', 'TWD', 27.8, 1000000]\n",
      "['OPT003', datetime.datetime(2021, 6, 21, 0, 0), datetime.datetime(2021, 6, 23, 0, 0), datetime.datetime(2022, 5, 23, 0, 0), 'Long', 'Put', 'VLN', 'USDTWD', 'USD', 'TWD', 28.1, 1000000]\n"
     ]
    }
   ],
   "source": [
    "start_row = 2\n",
    "end_row = 4\n",
    "start_col = 0\n",
    "end_col = 11\n",
    "recordcount = end_col - start_col + 1\n",
    "ListOPT = list()\n",
    "for i in range(start_row, end_row + 1):\n",
    "    row = [cell.value for cell in OPTSheet[i][start_col:end_col+1]]\n",
    "    ListOPT.append(row)\n",
    "    print(row)"
   ]
  },
  {
   "cell_type": "code",
   "execution_count": 22,
   "metadata": {},
   "outputs": [],
   "source": [
    "OPTBook = list()\n",
    "for i in range(len(ListOPT)):\n",
    "    row = ListOPT[i]\n",
    "    record = list()\n",
    "    record.append(row[0])\n",
    "    record.append(DatetimeToDate(row[1]))\n",
    "    record.append(DatetimeToDate(row[2]))\n",
    "    record.append(DatetimeToDate(row[3]))\n",
    "    record.append(row[4])\n",
    "    record.append(row[5])\n",
    "    record.append(row[6])\n",
    "    record.append(row[7])\n",
    "    record.append(row[8])\n",
    "    record.append(row[9])\n",
    "    record.append(row[10])\n",
    "    record.append(row[11])\n",
    "    OPTBook.append(record)"
   ]
  },
  {
   "cell_type": "code",
   "execution_count": 23,
   "metadata": {},
   "outputs": [
    {
     "data": {
      "text/plain": [
       "[['OPT001',\n",
       "  Date(19,5,2021),\n",
       "  Date(21,5,2021),\n",
       "  Date(21,9,2021),\n",
       "  'Long',\n",
       "  'Call',\n",
       "  'VLN',\n",
       "  'USDTWD',\n",
       "  'USD',\n",
       "  'TWD',\n",
       "  28,\n",
       "  1000000],\n",
       " ['OPT002',\n",
       "  Date(13,6,2021),\n",
       "  Date(15,6,2021),\n",
       "  Date(15,12,2021),\n",
       "  'Short',\n",
       "  'Call',\n",
       "  'VLN',\n",
       "  'USDTWD',\n",
       "  'USD',\n",
       "  'TWD',\n",
       "  27.8,\n",
       "  1000000],\n",
       " ['OPT003',\n",
       "  Date(21,6,2021),\n",
       "  Date(23,6,2021),\n",
       "  Date(23,5,2022),\n",
       "  'Long',\n",
       "  'Put',\n",
       "  'VLN',\n",
       "  'USDTWD',\n",
       "  'USD',\n",
       "  'TWD',\n",
       "  28.1,\n",
       "  1000000]]"
      ]
     },
     "execution_count": 23,
     "metadata": {},
     "output_type": "execute_result"
    }
   ],
   "source": [
    "OPTBook"
   ]
  },
  {
   "cell_type": "code",
   "execution_count": 24,
   "metadata": {},
   "outputs": [
    {
     "name": "stdout",
     "output_type": "stream",
     "text": [
      "214380.82208287125\n",
      "354531.1593567521\n",
      "4038829.2719921963\n",
      "1.1871898143033044e-06\n",
      "-421230.21349021135\n",
      "-583512.5392568522\n",
      "-4230322.303311605\n",
      "-0.5953726738888246\n",
      "727194.1754706659\n",
      "582777.7132123939\n",
      "3662.3825932819095\n",
      "4424198.570729044\n"
     ]
    }
   ],
   "source": [
    "# Delta & Curvature\n",
    "SenSheet = PstBook['FXR']\n",
    "for i in range(len(OPTBook)):\n",
    "    record = OPTBook[i]\n",
    "    tradeDate = record[1]\n",
    "    maturityDate = record[3]\n",
    "    position = record[4]\n",
    "    OptClass = record[5]\n",
    "    OptType = record[6]\n",
    "    VolClass = record[7]\n",
    "    CommCCY = record[8]\n",
    "    TermCCY = record[9]\n",
    "    Strike = record[10]\n",
    "    CommAmt = record[11]    \n",
    "    EuExer = ql.EuropeanExercise(maturityDate)\n",
    "    if (OptClass == 'Call'):\n",
    "        VLPayoff = ql.PlainVanillaPayoff(ql.Option.Call, Strike)\n",
    "    else:\n",
    "        VLPayoff = ql.PlainVanillaPayoff(ql.Option.Put, Strike)\n",
    "    \n",
    "    anEuroOption = ql.EuropeanOption(VLPayoff, EuExer)\n",
    "    Q_Spot = ql.SimpleQuote(FXSpot)\n",
    "    hQ_Spot = ql.QuoteHandle(Q_Spot)\n",
    "    h_VolSurface = Listh_VolSurface[0]\n",
    "    GBSProcess = ql.GeneralizedBlackScholesProcess(hQ_Spot, h_TSCommZero, h_TSTermZero, h_VolSurface)\n",
    "    AEEngine = ql.AnalyticEuropeanEngine(GBSProcess)\n",
    "    anEuroOption.setPricingEngine(AEEngine)\n",
    "    if (position == 'Long'):\n",
    "        Sign = 1.0\n",
    "    else:\n",
    "        Sign = -1.0\n",
    "    \n",
    "    Value = Sign * CommAmt * anEuroOption.NPV()\n",
    "    print(Value)\n",
    "        \n",
    "    FXSpot_1 = FXSpot * 1.01\n",
    "    Q_Spot_1 = ql.SimpleQuote(FXSpot_1)\n",
    "    hQ_Spot_1 = ql.QuoteHandle(Q_Spot_1)\n",
    "    GBSProcess_1 = ql.GeneralizedBlackScholesProcess(hQ_Spot_1, h_TSCommZero, h_TSTermZero, h_VolSurface)\n",
    "    AEEngine_1 = ql.AnalyticEuropeanEngine(GBSProcess_1)\n",
    "    anEuroOption.setPricingEngine(AEEngine_1)\n",
    "    Value_1 = Sign * CommAmt * anEuroOption.NPV()    \n",
    "    Delta = (Value_1 - Value) * 100.0\n",
    "    print(Value_1)\n",
    "                    \n",
    "    FXSpot_Up = FXSpot * 1.15\n",
    "    Q_Spot_Up = ql.SimpleQuote(FXSpot_Up)\n",
    "    hQ_Spot_Up = ql.QuoteHandle(Q_Spot_Up)\n",
    "    GBSProcess_Up = ql.GeneralizedBlackScholesProcess(hQ_Spot_Up, h_TSCommZero, h_TSTermZero, h_VolSurface)\n",
    "    AEEngine_Up = ql.AnalyticEuropeanEngine(GBSProcess_Up)\n",
    "    anEuroOption.setPricingEngine(AEEngine_Up)\n",
    "    Value_Up = Sign * CommAmt * anEuroOption.NPV()    \n",
    "    print(Value_Up)\n",
    "    \n",
    "    FXSpot_Dn = FXSpot * 0.85\n",
    "    Q_Spot_Dn = ql.SimpleQuote(FXSpot_Dn)\n",
    "    hQ_Spot_Dn = ql.QuoteHandle(Q_Spot_Dn)\n",
    "    GBSProcess_Dn = ql.GeneralizedBlackScholesProcess(hQ_Spot_Dn, h_TSCommZero, h_TSTermZero, h_VolSurface)\n",
    "    AEEngine_Dn = ql.AnalyticEuropeanEngine(GBSProcess_Dn)\n",
    "    anEuroOption.setPricingEngine(AEEngine_Dn)\n",
    "    Value_Dn = Sign * CommAmt * anEuroOption.NPV()     \n",
    "    print(Value_Dn)\n",
    "    \n",
    "    Curv_Up = (-((Value_Up - Value) - 0.15 * Delta))\n",
    "    Curv_Dn = (-((Value_Dn - Value) + 0.15 * Delta))            \n",
    "                \n",
    "    SenSheet.cell(i+5, 1).value = record[0]\n",
    "    SenSheet.cell(i+5, 2).value = Value\n",
    "    SenSheet.cell(i+5, 3).value = CommCCY\n",
    "    SenSheet.cell(i+5, 4).value = Delta\n",
    "    SenSheet.cell(i+5, 6).value = Curv_Up\n",
    "    SenSheet.cell(i+5, 8).value = Curv_Dn\n",
    "    # print(Delta)\n",
    "    # print(Curv_Up)\n",
    "    # print(Curv_Dn)    \n",
    "PstBook.save('Pst_FXOption.xlsx')"
   ]
  },
  {
   "cell_type": "code",
   "execution_count": 25,
   "metadata": {
    "scrolled": true
   },
   "outputs": [
    {
     "name": "stdout",
     "output_type": "stream",
     "text": [
      "214380.82208287125\n",
      "0.052686797387009446\n",
      "-421230.21349021135\n",
      "0.05249415449288447\n",
      "727194.1754706659\n",
      "0.05627365875743092\n"
     ]
    }
   ],
   "source": [
    "# Vega\n",
    "SenSheet = PstBook['FXR']\n",
    "for i in range(len(OPTBook)):\n",
    "    ListValue = list()\n",
    "    ListVega = list()\n",
    "    ListSensitivity = list()\n",
    "    record = OPTBook[i]\n",
    "    tradeDate = record[1]\n",
    "    maturityDate = record[3]\n",
    "    position = record[4]\n",
    "    OptClass = record[5]\n",
    "    OptType = record[6]\n",
    "    VolClass = record[7]\n",
    "    CommCCY = record[8]\n",
    "    TermCCY = record[9]\n",
    "    Strike = record[10]\n",
    "    CommAmt = record[11]    \n",
    "    EuExer = ql.EuropeanExercise(maturityDate)\n",
    "    if (OptClass == 'Call'):\n",
    "        VLPayoff = ql.PlainVanillaPayoff(ql.Option.Call, Strike)\n",
    "    else:\n",
    "        VLPayoff = ql.PlainVanillaPayoff(ql.Option.Put, Strike)\n",
    "    \n",
    "    anEuroOption = ql.EuropeanOption(VLPayoff, EuExer)\n",
    "    Q_Spot = ql.SimpleQuote(FXSpot)\n",
    "    hQ_Spot = ql.QuoteHandle(Q_Spot)    \n",
    "    h_VolSurface = Listh_VolSurface[0]\n",
    "    GBSProcess = ql.GeneralizedBlackScholesProcess(hQ_Spot, h_TSCommZero, h_TSTermZero, h_VolSurface)\n",
    "    AEEngine = ql.AnalyticEuropeanEngine(GBSProcess)\n",
    "    anEuroOption.setPricingEngine(AEEngine)\n",
    "    if (position == 'Long'):\n",
    "        Sign = 1.0\n",
    "    else:\n",
    "        Sign = -1.0\n",
    "    \n",
    "    npv = anEuroOption.NPV()\n",
    "    Value = Sign * CommAmt * npv\n",
    "    print(Value)\n",
    "    impVol = anEuroOption.impliedVolatility(npv, GBSProcess)\n",
    "    print(impVol)\n",
    "    ListValue.append(Value)\n",
    "    ListVega.append(0.0)\n",
    "    ListSensitivity.append(0.0)\n",
    "        \n",
    "    for k in range(1, NoVolCurve+1):\n",
    "        h_VolSurface = Listh_VolSurface[k]\n",
    "        GBSProcess = ql.GeneralizedBlackScholesProcess(hQ_Spot, h_TSCommZero, h_TSTermZero, h_VolSurface)\n",
    "        AEEngine = ql.AnalyticEuropeanEngine(GBSProcess)\n",
    "        anEuroOption.setPricingEngine(AEEngine)\n",
    "        npv = anEuroOption.NPV()\n",
    "        Value_1 = Sign * CommAmt * npv\n",
    "        #print(Value_1)\n",
    "        Vega = (Value_1 - Value) * 10000\n",
    "        #print(Vega)        \n",
    "        impVol = anEuroOption.impliedVolatility(npv, GBSProcess)\n",
    "        #print(impVol)\n",
    "        Sensitivity = Vega * impVol                    \n",
    "        #print(Sensitivity)\n",
    "        ListValue.append(Sensitivity)\n",
    "        ListVega.append(Vega)\n",
    "        ListSensitivity.append(Sensitivity)\n",
    "                \n",
    "    SenSheet.cell(i+5, 10).value = 'USDTWD'\n",
    "    for j in range(1, NoVolCurve+1):\n",
    "        SenSheet.cell(i+5, j+10).value = ListSensitivity[j]\n",
    "        \n",
    "PstBook.save('Pst_FXOption.xlsx')\n",
    "PstBook.close()"
   ]
  },
  {
   "cell_type": "code",
   "execution_count": null,
   "metadata": {},
   "outputs": [],
   "source": []
  }
 ],
 "metadata": {
  "kernelspec": {
   "display_name": "Python 3",
   "language": "python",
   "name": "python3"
  },
  "language_info": {
   "codemirror_mode": {
    "name": "ipython",
    "version": 3
   },
   "file_extension": ".py",
   "mimetype": "text/x-python",
   "name": "python",
   "nbconvert_exporter": "python",
   "pygments_lexer": "ipython3",
   "version": "3.8.3"
  }
 },
 "nbformat": 4,
 "nbformat_minor": 4
}
