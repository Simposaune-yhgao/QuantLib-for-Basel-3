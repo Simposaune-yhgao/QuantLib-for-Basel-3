{
 "cells": [
  {
   "cell_type": "code",
   "execution_count": 1,
   "metadata": {},
   "outputs": [],
   "source": [
    "import QuantLib as ql"
   ]
  },
  {
   "cell_type": "code",
   "execution_count": 2,
   "metadata": {},
   "outputs": [],
   "source": [
    "class DMoneyMarketSwap:\n",
    "    def __init__(self, evDate, effective, maturity, position, CCYComm, InitNPAComm, \n",
    "                 FinalNPAComm, CCYTerm, InitNPATerm, FinalNPATerm, FXSpot, h_discTSComm,\n",
    "                 h_discTSTerm):\n",
    "        self._ValueDate = evDate\n",
    "        self._EffectiveDate = effective\n",
    "        self._Maturity = maturity\n",
    "        if position == 'Buy':      \n",
    "            self._Position = 1.0\n",
    "        else:\n",
    "            self._Position = -1.0\n",
    "        self._CCYComm = CCYComm\n",
    "        self._InitNPAComm = InitNPAComm\n",
    "        self._FinalNPAComm = FinalNPAComm\n",
    "        self._CCYTerm = CCYTerm\n",
    "        self._InitNPATerm = InitNPATerm\n",
    "        self._FinalNPATerm = FinalNPATerm\n",
    "        self._FXSpot = FXSpot\n",
    "        self._H_discTSComm = h_discTSComm\n",
    "        self._H_discTSTerm = h_discTSTerm\n",
    "        \n",
    "    def NPV(self):\n",
    "        FinalDfComm = self._H_discTSComm.discount(self._Maturity)\n",
    "        FinalDfTerm = self._H_discTSTerm.discount(self._Maturity)\n",
    "        FinalPVComm = FinalDfComm * self._FinalNPAComm\n",
    "        FinalPVTerm = FinalDfTerm * self._FinalNPATerm\n",
    "        if (self._ValueDate >= self._EffectiveDate):\n",
    "            self._Value = self._Position * (FinalPVComm * self._FXSpot - FinalPVTerm)\n",
    "        else:\n",
    "            InitDfComm = self._H_discTSComm.discount(self._EffectiveDate)\n",
    "            InitDfTerm = self._H_discTSTerm.discount(self._EffectiveDate)\n",
    "            InitPVComm = InitDfComm * self._InitNPAComm\n",
    "            InitPVTerm = InitDfTerm * self._InitNPATerm\n",
    "            self._Value = self._Position * ((FinalPVComm * self._FXSpot - FinalPVTerm)\n",
    "                                            + (InitPVTerm - InitPVComm * self._FXSpot))\n",
    "        return self._Value"
   ]
  },
  {
   "cell_type": "code",
   "execution_count": 3,
   "metadata": {},
   "outputs": [],
   "source": [
    "settings = ql.Settings.instance()\n",
    "evDate = ql.Date(11, 7, 2011)\n",
    "settings.setEvaluationDate(evDate)\n",
    "Cal = ql.NullCalendar()\n",
    "DC365 = ql.Actual365Fixed()\n",
    "DC360 = ql.Actual360()\n",
    "settlementDays = 0\n",
    "refDate = Cal.advance(evDate, settlementDays, ql.Days, ql.Following, False)\n",
    "BDC = ql.Unadjusted"
   ]
  },
  {
   "cell_type": "code",
   "execution_count": 4,
   "metadata": {},
   "outputs": [],
   "source": [
    "f = 0.01\n",
    "discTSComm = ql.FlatForward(settlementDays, Cal, f, DC360, ql.Continuous, ql.Annual)\n",
    "h_discTSComm = ql.YieldTermStructureHandle(discTSComm)"
   ]
  },
  {
   "cell_type": "code",
   "execution_count": 5,
   "metadata": {},
   "outputs": [],
   "source": [
    "r = 0.02\n",
    "discTSTerm = ql.FlatForward(settlementDays, Cal, r, DC365, ql.Continuous, ql.Annual)\n",
    "h_discTSTerm = ql.YieldTermStructureHandle(discTSTerm)"
   ]
  },
  {
   "cell_type": "code",
   "execution_count": 6,
   "metadata": {},
   "outputs": [],
   "source": [
    "effective = ql.Date(13, 7, 2011)\n",
    "maturity = ql.Date(13, 1, 2012)\n",
    "position = 'Buy'\n",
    "CCYComm = 'USD'\n",
    "InitCommNPA = 1000000\n",
    "FinalCommNPA = 1000000\n",
    "CCYTerm = 'TWD'\n",
    "InitTermNPA = 28000000\n",
    "FinalTermNPA = 27900000\n",
    "FXSpot = 28.0"
   ]
  },
  {
   "cell_type": "code",
   "execution_count": 7,
   "metadata": {},
   "outputs": [
    {
     "name": "stdout",
     "output_type": "stream",
     "text": [
      "237100.1752630137\n"
     ]
    }
   ],
   "source": [
    "MMS = DMoneyMarketSwap(evDate, effective, maturity, position, CCYComm, InitCommNPA, \n",
    "                       FinalCommNPA, CCYTerm, InitTermNPA, FinalTermNPA, FXSpot, \n",
    "                       h_discTSComm, h_discTSTerm)\n",
    "Value = MMS.NPV()\n",
    "print(Value)"
   ]
  },
  {
   "cell_type": "code",
   "execution_count": null,
   "metadata": {},
   "outputs": [],
   "source": []
  }
 ],
 "metadata": {
  "kernelspec": {
   "display_name": "Python 3",
   "language": "python",
   "name": "python3"
  },
  "language_info": {
   "codemirror_mode": {
    "name": "ipython",
    "version": 3
   },
   "file_extension": ".py",
   "mimetype": "text/x-python",
   "name": "python",
   "nbconvert_exporter": "python",
   "pygments_lexer": "ipython3",
   "version": "3.8.3"
  }
 },
 "nbformat": 4,
 "nbformat_minor": 4
}
