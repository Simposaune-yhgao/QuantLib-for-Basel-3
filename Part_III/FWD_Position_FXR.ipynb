{
 "cells": [
  {
   "cell_type": "code",
   "execution_count": 33,
   "metadata": {},
   "outputs": [],
   "source": [
    "import QuantLib as ql\n",
    "import openpyxl as xl"
   ]
  },
  {
   "cell_type": "code",
   "execution_count": 34,
   "metadata": {},
   "outputs": [],
   "source": [
    "def DatetimeToDate(ADatetime):\n",
    "    ADate = ql.Date(ADatetime.day, ADatetime.month, ADatetime.year)\n",
    "    return ADate"
   ]
  },
  {
   "cell_type": "code",
   "execution_count": 35,
   "metadata": {},
   "outputs": [],
   "source": [
    "class DFXForward:    \n",
    "    def __init__(self, evDate, maturity, position, CCYComm, NPAComm, \n",
    "        CCYTerm, NPATerm, FXSpot, h_discTSComm, h_discTSTerm):\n",
    "        self._ValueDate = evDate\n",
    "        self._Maturity = maturity\n",
    "        if position == 'Buy':          \n",
    "            self._Position = 1.0\n",
    "        else:\n",
    "            self._Position = -1.0\n",
    "        self._CCYComm = CCYComm\n",
    "        self._NPAComm = NPAComm\n",
    "        self._CCYTerm = CCYTerm\n",
    "        self._NPATerm = NPATerm\n",
    "        self._FXSpot = FXSpot\n",
    "        self._H_discTSComm = h_discTSComm\n",
    "        self._H_discTSTerm = h_discTSTerm\n",
    "        \n",
    "    def NPV(self):\n",
    "        DfComm = self._H_discTSComm.discount(self._Maturity)\n",
    "        DfTerm = self._H_discTSTerm.discount(self._Maturity)\n",
    "        PVComm = DfComm * self._NPAComm\n",
    "        PVTerm = DfTerm * self._NPATerm\n",
    "        self._Value = self._Position * (PVComm * self._FXSpot - PVTerm)\n",
    "        return self._Value"
   ]
  },
  {
   "cell_type": "code",
   "execution_count": 36,
   "metadata": {},
   "outputs": [],
   "source": [
    "PstBook = xl.load_workbook('Pst_Fwd.xlsx', data_only=True)\n",
    "MktSheet = PstBook.worksheets[0]\n",
    "CommCCY = 'USD'\n",
    "TermCCY = 'TWD'\n",
    "Type = 'FWD'\n",
    "MTMDate = MktSheet.cell(1, 3).value\n",
    "FXSpot = MktSheet.cell(3, 6).value"
   ]
  },
  {
   "cell_type": "code",
   "execution_count": 37,
   "metadata": {},
   "outputs": [],
   "source": [
    "settings = ql.Settings.instance()\n",
    "evDate = DatetimeToDate(MTMDate)\n",
    "settings.setEvaluationDate(evDate)\n",
    "Cal = ql.NullCalendar()\n",
    "CommDC = ql.Actual360()\n",
    "TermDC = ql.Actual365Fixed()\n",
    "BDC = ql.Unadjusted\n",
    "settlementDays = 0"
   ]
  },
  {
   "cell_type": "code",
   "execution_count": 38,
   "metadata": {},
   "outputs": [
    {
     "name": "stdout",
     "output_type": "stream",
     "text": [
      "0.001459727696536763\n"
     ]
    }
   ],
   "source": [
    "CommZeroSP = MktSheet.cell(22, 6).value\n",
    "CommZero3M = MktSheet.cell(23, 6).value\n",
    "CommZero6M = MktSheet.cell(24, 6).value\n",
    "CommZero1Y = MktSheet.cell(25, 6).value\n",
    "print(CommZeroSP)"
   ]
  },
  {
   "cell_type": "code",
   "execution_count": 39,
   "metadata": {},
   "outputs": [
    {
     "name": "stdout",
     "output_type": "stream",
     "text": [
      "June 30th, 2021\n"
     ]
    }
   ],
   "source": [
    "DateSP = evDate\n",
    "Date3M = Cal.advance(evDate, 3, ql.Months, BDC, False)\n",
    "Date6M = Cal.advance(evDate, 6, ql.Months, BDC, False)\n",
    "Date1Y = Cal.advance(evDate, 1, ql.Years, BDC, False)\n",
    "print(DateSP)"
   ]
  },
  {
   "cell_type": "code",
   "execution_count": 40,
   "metadata": {},
   "outputs": [
    {
     "name": "stdout",
     "output_type": "stream",
     "text": [
      "-0.00392904297456824\n"
     ]
    }
   ],
   "source": [
    "TermZeroSP = MktSheet.cell(22, 12).value\n",
    "TermZero3M = MktSheet.cell(23, 12).value\n",
    "TermZero6M = MktSheet.cell(24, 12).value\n",
    "TermZero1Y = MktSheet.cell(25, 12).value\n",
    "print(TermZeroSP)"
   ]
  },
  {
   "cell_type": "code",
   "execution_count": 41,
   "metadata": {},
   "outputs": [
    {
     "data": {
      "text/plain": [
       "[-0.00392904297456824,\n",
       " -0.003829042973135284,\n",
       " -0.0006520395000015291,\n",
       " 0.001329938573603508]"
      ]
     },
     "execution_count": 41,
     "metadata": {},
     "output_type": "execute_result"
    }
   ],
   "source": [
    "ListDate = list([DateSP, Date3M, Date6M, Date1Y])\n",
    "ListCommRate = list([CommZeroSP, CommZero3M, CommZero6M, CommZero1Y])\n",
    "ListTermRate = list([TermZeroSP, TermZero3M+0.0001, TermZero6M, TermZero1Y])\n",
    "ListDate\n",
    "ListCommRate\n",
    "ListTermRate"
   ]
  },
  {
   "cell_type": "code",
   "execution_count": 42,
   "metadata": {},
   "outputs": [],
   "source": [
    "VecDate = ql.DateVector(ListDate)\n",
    "VecCommRate = ql.DoubleVector(ListCommRate)\n",
    "VecTermRate = ql.DoubleVector(ListTermRate)"
   ]
  },
  {
   "cell_type": "code",
   "execution_count": 43,
   "metadata": {},
   "outputs": [],
   "source": [
    "TSCommZero = ql.ZeroCurve(VecDate, VecCommRate, CommDC, Cal, ql.Linear(), \n",
    "                          ql.Continuous, ql.Annual)\n",
    "h_TSCommZero = ql.YieldTermStructureHandle(TSCommZero)\n",
    "TSTermZero = ql.ZeroCurve(VecDate, VecTermRate, TermDC, Cal, ql.Linear(), \n",
    "                          ql.Continuous, ql.Annual)\n",
    "h_TSTermZero = ql.YieldTermStructureHandle(TSTermZero)"
   ]
  },
  {
   "cell_type": "code",
   "execution_count": 44,
   "metadata": {},
   "outputs": [],
   "source": [
    "FWDSheet = PstBook['FWD']"
   ]
  },
  {
   "cell_type": "code",
   "execution_count": 45,
   "metadata": {},
   "outputs": [
    {
     "name": "stdout",
     "output_type": "stream",
     "text": [
      "['FWD001', datetime.datetime(2021, 5, 21, 0, 0), datetime.datetime(2021, 9, 21, 0, 0), 'Buy', 'USD', 28, 1000000, 28000000]\n",
      "['FWD002', datetime.datetime(2021, 6, 15, 0, 0), datetime.datetime(2021, 12, 15, 0, 0), 'Sell', 'USD', 27.8, 1000000, 27800000]\n",
      "['FWD003', datetime.datetime(2021, 6, 23, 0, 0), datetime.datetime(2022, 5, 23, 0, 0), 'Buy', 'USD', 28.1, 1000000, 28100000]\n"
     ]
    }
   ],
   "source": [
    "start_row = 2\n",
    "end_row = 4\n",
    "start_col = 0\n",
    "end_col = 7\n",
    "recordcount = end_col - start_col + 1\n",
    "ListFWD = list()\n",
    "for i in range(start_row, end_row + 1):\n",
    "    row = [cell.value for cell in FWDSheet[i][start_col:end_col+1]]\n",
    "    ListFWD.append(row)\n",
    "    print(row)"
   ]
  },
  {
   "cell_type": "code",
   "execution_count": 46,
   "metadata": {},
   "outputs": [],
   "source": [
    "FWDBook = list()\n",
    "for i in range(len(ListFWD)):\n",
    "    row = ListFWD[i]\n",
    "    record = list()\n",
    "    record.append(row[0])\n",
    "    record.append(DatetimeToDate(row[1]))\n",
    "    record.append(DatetimeToDate(row[2]))\n",
    "    record.append(row[3])\n",
    "    record.append(row[4])\n",
    "    record.append(row[5])\n",
    "    record.append(row[6])\n",
    "    record.append(row[7])\n",
    "    FWDBook.append(record)"
   ]
  },
  {
   "cell_type": "code",
   "execution_count": 47,
   "metadata": {},
   "outputs": [
    {
     "data": {
      "text/plain": [
       "[['FWD001',\n",
       "  Date(21,5,2021),\n",
       "  Date(21,9,2021),\n",
       "  'Buy',\n",
       "  'USD',\n",
       "  28,\n",
       "  1000000,\n",
       "  28000000],\n",
       " ['FWD002',\n",
       "  Date(15,6,2021),\n",
       "  Date(15,12,2021),\n",
       "  'Sell',\n",
       "  'USD',\n",
       "  27.8,\n",
       "  1000000,\n",
       "  27800000],\n",
       " ['FWD003',\n",
       "  Date(23,6,2021),\n",
       "  Date(23,5,2022),\n",
       "  'Buy',\n",
       "  'USD',\n",
       "  28.1,\n",
       "  1000000,\n",
       "  28100000]]"
      ]
     },
     "execution_count": 47,
     "metadata": {},
     "output_type": "execute_result"
    }
   ],
   "source": [
    "FWDBook"
   ]
  },
  {
   "cell_type": "code",
   "execution_count": 48,
   "metadata": {},
   "outputs": [
    {
     "name": "stdout",
     "output_type": "stream",
     "text": [
      "-142838.03728270903\n",
      "-50667.52624470368\n",
      "-249905.55978116766\n"
     ]
    }
   ],
   "source": [
    "SenSheet = PstBook['FXR']\n",
    "for i in range(0, len(FWDBook)):    \n",
    "    record = FWDBook[i]\n",
    "    tradeDate = record[1]\n",
    "    maturityDate = record[2]\n",
    "    position = record[3]\n",
    "    CCY = record[4]\n",
    "    CommAmt = record[6]\n",
    "    TermAmt = record[7]            \n",
    "    FWD = DFXForward(evDate, maturityDate, position, CommCCY, CommAmt, TermCCY, TermAmt, \n",
    "                     FXSpot, h_TSCommZero, h_TSTermZero)        \n",
    "    Value = FWD.NPV()\n",
    "    print(Value)\n",
    "    \n",
    "    FXSpot_1 = FXSpot * 1.01\n",
    "    FWD = DFXForward(evDate, maturityDate, position, CommCCY, CommAmt, TermCCY, TermAmt, \n",
    "                     FXSpot_1, h_TSCommZero, h_TSTermZero)        \n",
    "    Value_1 = FWD.NPV()\n",
    "    Delta = (Value_1 - Value) * 100.0\n",
    "    # print(Value_1)\n",
    "    \n",
    "    FXSpot_Up = FXSpot * 1.15\n",
    "    FWD = DFXForward(evDate, maturityDate, position, CommCCY, CommAmt, TermCCY, TermAmt, \n",
    "                     FXSpot_Up, h_TSCommZero, h_TSTermZero)        \n",
    "    Value_Up = FWD.NPV()\n",
    "    # print(Value_Up)\n",
    "    \n",
    "    FXSpot_Dn = FXSpot * 0.85\n",
    "    FWD = DFXForward(evDate, maturityDate, position, CommCCY, CommAmt, TermCCY, TermAmt, \n",
    "                     FXSpot_Dn, h_TSCommZero, h_TSTermZero)        \n",
    "    Value_Dn = FWD.NPV()\n",
    "    # print(Value_Dn)\n",
    "    \n",
    "    Curv_Up = (-((Value_Up - Value) - 0.15 * Delta))\n",
    "    Curv_Dn = (-((Value_Dn - Value) + 0.15 * Delta))    \n",
    "    \n",
    "    SenSheet.cell(i+5, 1).value = record[0]\n",
    "    SenSheet.cell(i+5, 2).value = Value\n",
    "    SenSheet.cell(i+5, 3).value = CCY\n",
    "    SenSheet.cell(i+5, 4).value = Delta\n",
    "    SenSheet.cell(i+5, 6).value = Curv_Up\n",
    "    SenSheet.cell(i+5, 8).value = Curv_Dn\n",
    "    # print(Delta)\n",
    "    # print(Curv_Up)\n",
    "    # print(Curv_Dn)\n",
    "    \n",
    "PstBook.save('Pst_FWD.xlsx')\n",
    "PstBook.close()"
   ]
  },
  {
   "cell_type": "code",
   "execution_count": null,
   "metadata": {},
   "outputs": [],
   "source": []
  }
 ],
 "metadata": {
  "kernelspec": {
   "display_name": "Python 3",
   "language": "python",
   "name": "python3"
  },
  "language_info": {
   "codemirror_mode": {
    "name": "ipython",
    "version": 3
   },
   "file_extension": ".py",
   "mimetype": "text/x-python",
   "name": "python",
   "nbconvert_exporter": "python",
   "pygments_lexer": "ipython3",
   "version": "3.8.3"
  }
 },
 "nbformat": 4,
 "nbformat_minor": 4
}
