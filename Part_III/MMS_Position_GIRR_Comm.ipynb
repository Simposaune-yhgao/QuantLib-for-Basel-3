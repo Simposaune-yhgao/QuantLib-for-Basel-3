{
 "cells": [
  {
   "cell_type": "code",
   "execution_count": 1,
   "metadata": {},
   "outputs": [],
   "source": [
    "import QuantLib as ql\n",
    "import openpyxl as xl"
   ]
  },
  {
   "cell_type": "code",
   "execution_count": 2,
   "metadata": {},
   "outputs": [],
   "source": [
    "def DatetimeToDate(ADatetime):\n",
    "    ADate = ql.Date(ADatetime.day, ADatetime.month, ADatetime.year)\n",
    "    return ADate"
   ]
  },
  {
   "cell_type": "code",
   "execution_count": 3,
   "metadata": {},
   "outputs": [],
   "source": [
    "class DMoneyMarketSwap:    \n",
    "    def __init__(self, evDate, effective, maturity, position, CCYComm, InitNPAComm, \n",
    "                 FinalNPAComm, CCYTerm, InitNPATerm, FinalNPATerm, FXSpot, h_discTSComm, \n",
    "                 h_discTSTerm):\n",
    "        self._ValueDate = evDate\n",
    "        self._EffectiveDate = effective\n",
    "        self._Maturity = maturity        \n",
    "        if position == 'Buy':          \n",
    "            self._Position = 1.0\n",
    "        else:\n",
    "            self._Position = -1.0\n",
    "        self._CCYComm = CCYComm\n",
    "        self._InitNPAComm = InitNPAComm\n",
    "        self._FinalNPAComm = FinalNPAComm\n",
    "        self._CCYTerm = CCYTerm\n",
    "        self._InitNPATerm = InitNPATerm\n",
    "        self._FinalNPATerm = FinalNPATerm\n",
    "        self._FXSpot = FXSpot\n",
    "        self._H_discTSComm = h_discTSComm\n",
    "        self._H_discTSTerm = h_discTSTerm\n",
    "        \n",
    "    def NPV(self):\n",
    "        FinalDfComm = self._H_discTSComm.discount(self._Maturity)\n",
    "        FinalDfTerm = self._H_discTSTerm.discount(self._Maturity)\n",
    "        FinalPVComm = FinalDfComm * self._FinalNPAComm\n",
    "        FinalPVTerm = FinalDfTerm * self._FinalNPATerm        \n",
    "        if (self._ValueDate >= self._EffectiveDate):        \n",
    "            self._Value = self._Position * (FinalPVComm * self._FXSpot - FinalPVTerm)\n",
    "        else:\n",
    "            InitDfComm = self._H_discTSComm.discount(self._EffectiveDate)\n",
    "            InitDfTerm = self._H_discTSTerm.discount(self._EffectiveDate)\n",
    "            InitPVComm = InitDfComm * self._InitNPAComm\n",
    "            InitPVTerm = InitDfTerm * self._InitNPATerm        \n",
    "            self._Value = self._Position * ((FinalPVComm * self._FXSpot - FinalPVTerm) \n",
    "                                            + (InitPVTerm - InitPVComm * self._FXSpot))\n",
    "        return self._Value"
   ]
  },
  {
   "cell_type": "code",
   "execution_count": 4,
   "metadata": {},
   "outputs": [],
   "source": [
    "PstBook = xl.load_workbook('Pst_MMS.xlsx', data_only=True)\n",
    "MktSheet = PstBook.worksheets[0]\n",
    "TermCCY = 'TWD'\n",
    "Type = 'MMS'\n",
    "CommCCY = MktSheet.cell(3, 5).value\n",
    "MTMDate = MktSheet.cell(1, 3).value\n",
    "FXSpot = MktSheet.cell(3, 6).value"
   ]
  },
  {
   "cell_type": "code",
   "execution_count": 5,
   "metadata": {},
   "outputs": [],
   "source": [
    "settings = ql.Settings.instance()\n",
    "evDate = DatetimeToDate(MTMDate)\n",
    "settings.setEvaluationDate(evDate)\n",
    "Cal = ql.NullCalendar()\n",
    "CommDC = ql.Actual360()\n",
    "TermDC = ql.Actual365Fixed()\n",
    "BDC = ql.Unadjusted\n",
    "settlementDays = 0"
   ]
  },
  {
   "cell_type": "code",
   "execution_count": 6,
   "metadata": {},
   "outputs": [
    {
     "name": "stdout",
     "output_type": "stream",
     "text": [
      "0.001459727696536763\n"
     ]
    }
   ],
   "source": [
    "CommZeroSP = MktSheet.cell(22, 6).value\n",
    "CommZero3M = MktSheet.cell(23, 6).value\n",
    "CommZero6M = MktSheet.cell(24, 6).value\n",
    "CommZero1Y = MktSheet.cell(25, 6).value\n",
    "print(CommZeroSP)"
   ]
  },
  {
   "cell_type": "code",
   "execution_count": 7,
   "metadata": {},
   "outputs": [
    {
     "name": "stdout",
     "output_type": "stream",
     "text": [
      "June 30th, 2021\n"
     ]
    }
   ],
   "source": [
    "DateSP = evDate\n",
    "Date3M = Cal.advance(evDate, 3, ql.Months, BDC, False)\n",
    "Date6M = Cal.advance(evDate, 6, ql.Months, BDC, False)\n",
    "Date1Y = Cal.advance(evDate, 1, ql.Years, BDC, False)\n",
    "print(DateSP)"
   ]
  },
  {
   "cell_type": "code",
   "execution_count": 8,
   "metadata": {},
   "outputs": [
    {
     "name": "stdout",
     "output_type": "stream",
     "text": [
      "-0.00392904297456824\n"
     ]
    }
   ],
   "source": [
    "TermZeroSP = MktSheet.cell(22, 12).value\n",
    "TermZero3M = MktSheet.cell(23, 12).value\n",
    "TermZero6M = MktSheet.cell(24, 12).value\n",
    "TermZero1Y = MktSheet.cell(25, 12).value\n",
    "print(TermZeroSP)"
   ]
  },
  {
   "cell_type": "code",
   "execution_count": 9,
   "metadata": {},
   "outputs": [
    {
     "data": {
      "text/plain": [
       "[-0.00392904297456824,\n",
       " -0.003929042973135284,\n",
       " -0.0006520395000015291,\n",
       " 0.001329938573603508]"
      ]
     },
     "execution_count": 9,
     "metadata": {},
     "output_type": "execute_result"
    }
   ],
   "source": [
    "ListDate = list([DateSP, Date3M, Date6M, Date1Y])\n",
    "ListCommRate = list([CommZeroSP, CommZero3M, CommZero6M, CommZero1Y])\n",
    "ListTermRate = list([TermZeroSP, TermZero3M, TermZero6M, TermZero1Y])\n",
    "ListDate\n",
    "ListCommRate\n",
    "ListTermRate"
   ]
  },
  {
   "cell_type": "code",
   "execution_count": 10,
   "metadata": {},
   "outputs": [],
   "source": [
    "VecDate = ql.DateVector(ListDate)\n",
    "VecCommRate = ql.DoubleVector(ListCommRate)\n",
    "VecTermRate = ql.DoubleVector(ListTermRate)"
   ]
  },
  {
   "cell_type": "code",
   "execution_count": 11,
   "metadata": {},
   "outputs": [],
   "source": [
    "TSCommZero = ql.ZeroCurve(VecDate, VecCommRate, CommDC, Cal, ql.Linear(), \n",
    "                          ql.Continuous, ql.Annual)\n",
    "h_TSCommZero = ql.YieldTermStructureHandle(TSCommZero)\n",
    "h_TSCommZero_0 = ql.YieldTermStructureHandle(TSCommZero)\n",
    "TSTermZero = ql.ZeroCurve(VecDate, VecTermRate, TermDC, Cal, ql.Linear(), \n",
    "                          ql.Continuous, ql.Annual)\n",
    "h_TSTermZero = ql.YieldTermStructureHandle(TSTermZero)\n",
    "h_TSTermZero_0 = ql.YieldTermStructureHandle(TSTermZero)"
   ]
  },
  {
   "cell_type": "code",
   "execution_count": 12,
   "metadata": {},
   "outputs": [
    {
     "name": "stdout",
     "output_type": "stream",
     "text": [
      "4\n"
     ]
    }
   ],
   "source": [
    "NoCurv = len(ListCommRate)\n",
    "print(NoCurv)"
   ]
  },
  {
   "cell_type": "code",
   "execution_count": 13,
   "metadata": {},
   "outputs": [],
   "source": [
    "ListListCommRate = list()\n",
    "ListListCommRate.append(ListCommRate)"
   ]
  },
  {
   "cell_type": "code",
   "execution_count": 14,
   "metadata": {},
   "outputs": [
    {
     "data": {
      "text/plain": [
       "[[0.001459727696536763,\n",
       "  0.001459727696619909,\n",
       "  0.002038942990682572,\n",
       "  0.002656419500050458]]"
      ]
     },
     "execution_count": 14,
     "metadata": {},
     "output_type": "execute_result"
    }
   ],
   "source": [
    "ListListCommRate"
   ]
  },
  {
   "cell_type": "code",
   "execution_count": 15,
   "metadata": {},
   "outputs": [],
   "source": [
    "for i in range(1, NoCurv):\n",
    "    NewList = list()\n",
    "    NewList.append(ListCommRate[0])\n",
    "    for j in range(1, NoCurv):\n",
    "        if(i==j):\n",
    "            NewList.append(ListCommRate[j] + 0.0001)\n",
    "        else:\n",
    "            NewList.append(ListCommRate[j])\n",
    "    ListListCommRate.append(NewList)"
   ]
  },
  {
   "cell_type": "code",
   "execution_count": 16,
   "metadata": {},
   "outputs": [
    {
     "data": {
      "text/plain": [
       "[[0.001459727696536763,\n",
       "  0.001459727696619909,\n",
       "  0.002038942990682572,\n",
       "  0.002656419500050458],\n",
       " [0.001459727696536763,\n",
       "  0.001559727696619909,\n",
       "  0.002038942990682572,\n",
       "  0.002656419500050458],\n",
       " [0.001459727696536763,\n",
       "  0.001459727696619909,\n",
       "  0.002138942990682572,\n",
       "  0.002656419500050458],\n",
       " [0.001459727696536763,\n",
       "  0.001459727696619909,\n",
       "  0.002038942990682572,\n",
       "  0.002756419500050458]]"
      ]
     },
     "execution_count": 16,
     "metadata": {},
     "output_type": "execute_result"
    }
   ],
   "source": [
    "ListListCommRate"
   ]
  },
  {
   "cell_type": "code",
   "execution_count": 17,
   "metadata": {},
   "outputs": [],
   "source": [
    "ListVecCommRate = list()\n",
    "ListTSCommRate = list()\n",
    "for i in range(NoCurv):\n",
    "    AVecCommRate = ql.DoubleVector(ListListCommRate[i])\n",
    "    ListVecCommRate.append(AVecCommRate)\n",
    "    ATSCommRate = ql.ZeroCurve(VecDate, AVecCommRate, CommDC, Cal, ql.Linear(), \n",
    "                               ql.Continuous, ql.Annual)\n",
    "    ListTSCommRate.append(ATSCommRate)"
   ]
  },
  {
   "cell_type": "code",
   "execution_count": 18,
   "metadata": {},
   "outputs": [],
   "source": [
    "ListListTermRate = list()\n",
    "ListListTermRate.append(ListTermRate)"
   ]
  },
  {
   "cell_type": "code",
   "execution_count": 19,
   "metadata": {},
   "outputs": [
    {
     "data": {
      "text/plain": [
       "[[-0.00392904297456824,\n",
       "  -0.003929042973135284,\n",
       "  -0.0006520395000015291,\n",
       "  0.001329938573603508]]"
      ]
     },
     "execution_count": 19,
     "metadata": {},
     "output_type": "execute_result"
    }
   ],
   "source": [
    "ListListTermRate"
   ]
  },
  {
   "cell_type": "code",
   "execution_count": 20,
   "metadata": {},
   "outputs": [],
   "source": [
    "for i in range(1, NoCurv):\n",
    "    NewList = list()\n",
    "    NewList.append(ListTermRate[0])\n",
    "    for j in range(1, NoCurv):\n",
    "        if(i==j):\n",
    "            NewList.append(ListTermRate[j] + 0.0001)\n",
    "        else:\n",
    "            NewList.append(ListTermRate[j])\n",
    "    ListListTermRate.append(NewList)"
   ]
  },
  {
   "cell_type": "code",
   "execution_count": 21,
   "metadata": {},
   "outputs": [
    {
     "data": {
      "text/plain": [
       "[[-0.00392904297456824,\n",
       "  -0.003929042973135284,\n",
       "  -0.0006520395000015291,\n",
       "  0.001329938573603508],\n",
       " [-0.00392904297456824,\n",
       "  -0.003829042973135284,\n",
       "  -0.0006520395000015291,\n",
       "  0.001329938573603508],\n",
       " [-0.00392904297456824,\n",
       "  -0.003929042973135284,\n",
       "  -0.000552039500001529,\n",
       "  0.001329938573603508],\n",
       " [-0.00392904297456824,\n",
       "  -0.003929042973135284,\n",
       "  -0.0006520395000015291,\n",
       "  0.001429938573603508]]"
      ]
     },
     "execution_count": 21,
     "metadata": {},
     "output_type": "execute_result"
    }
   ],
   "source": [
    "ListListTermRate"
   ]
  },
  {
   "cell_type": "code",
   "execution_count": 22,
   "metadata": {},
   "outputs": [],
   "source": [
    "ListVecTermRate = list()\n",
    "ListTSTermRate = list()\n",
    "for i in range(NoCurv):\n",
    "    AVecTermRate = ql.DoubleVector(ListListTermRate[i])\n",
    "    ListVecTermRate.append(AVecTermRate)\n",
    "    ATSTermRate = ql.ZeroCurve(VecDate, AVecTermRate, TermDC, Cal, ql.Linear(), \n",
    "                               ql.Continuous, ql.Annual)\n",
    "    ListTSTermRate.append(ATSTermRate)"
   ]
  },
  {
   "cell_type": "code",
   "execution_count": 23,
   "metadata": {},
   "outputs": [],
   "source": [
    "CurvUpListListCommRate = list()\n",
    "CurvUpListListCommRate.append(ListCommRate)\n",
    "for i in range(1, NoCurv):\n",
    "    NewList = list()\n",
    "    NewList.append(ListCommRate[0])\n",
    "    for j in range(1, NoCurv):\n",
    "        if(i==j):\n",
    "            NewList.append(ListCommRate[j] + 0.017)\n",
    "        else:\n",
    "            NewList.append(ListCommRate[j])\n",
    "    CurvUpListListCommRate.append(NewList)"
   ]
  },
  {
   "cell_type": "code",
   "execution_count": 24,
   "metadata": {},
   "outputs": [],
   "source": [
    "CurvDnListListCommRate = list()\n",
    "CurvDnListListCommRate.append(ListCommRate)\n",
    "for i in range(1, NoCurv):\n",
    "    NewList = list()\n",
    "    NewList.append(ListCommRate[0])\n",
    "    for j in range(1, NoCurv):\n",
    "        if(i==j):\n",
    "            NewList.append(ListCommRate[j] - 0.017)\n",
    "        else:\n",
    "            NewList.append(ListCommRate[j])\n",
    "    CurvDnListListCommRate.append(NewList)"
   ]
  },
  {
   "cell_type": "code",
   "execution_count": 25,
   "metadata": {},
   "outputs": [],
   "source": [
    "CurvUpListListTermRate = list()\n",
    "CurvUpListListTermRate.append(ListTermRate)\n",
    "for i in range(1, NoCurv):\n",
    "    NewList = list()\n",
    "    NewList.append(ListTermRate[0])\n",
    "    for j in range(1, NoCurv):\n",
    "        if(i==j):\n",
    "            NewList.append(ListTermRate[j] + 0.017)\n",
    "        else:\n",
    "            NewList.append(ListTermRate[j])\n",
    "    CurvUpListListTermRate.append(NewList)"
   ]
  },
  {
   "cell_type": "code",
   "execution_count": 26,
   "metadata": {},
   "outputs": [],
   "source": [
    "CurvDnListListTermRate = list()\n",
    "CurvDnListListTermRate.append(ListTermRate)\n",
    "for i in range(1, NoCurv):\n",
    "    NewList = list()\n",
    "    NewList.append(ListTermRate[0])\n",
    "    for j in range(1, NoCurv):\n",
    "        if(i==j):\n",
    "            NewList.append(ListTermRate[j] - 0.017)\n",
    "        else:\n",
    "            NewList.append(ListTermRate[j])\n",
    "    CurvDnListListTermRate.append(NewList)"
   ]
  },
  {
   "cell_type": "code",
   "execution_count": 27,
   "metadata": {},
   "outputs": [],
   "source": [
    "MMSSheet = PstBook['MMS']"
   ]
  },
  {
   "cell_type": "code",
   "execution_count": 28,
   "metadata": {},
   "outputs": [
    {
     "name": "stdout",
     "output_type": "stream",
     "text": [
      "['MMS001', datetime.datetime(2021, 5, 19, 0, 0), datetime.datetime(2021, 5, 21, 0, 0), datetime.datetime(2021, 9, 21, 0, 0), 'Buy', 'USD', 1000000, 1000000, 'TWD', 28000000, 27900000]\n",
      "['MMS002', datetime.datetime(2021, 6, 13, 0, 0), datetime.datetime(2021, 6, 15, 0, 0), datetime.datetime(2021, 12, 15, 0, 0), 'Sell', 'USD', 1000000, 1000000, 'TWD', 27900000, 27800000]\n",
      "['MMS003', datetime.datetime(2021, 6, 21, 0, 0), datetime.datetime(2021, 6, 23, 0, 0), datetime.datetime(2022, 5, 23, 0, 0), 'Buy', 'USD', 1000000, 1000000, 'TWD', 27850000, 27700000]\n"
     ]
    }
   ],
   "source": [
    "start_row = 2\n",
    "end_row = 4\n",
    "start_col = 0\n",
    "end_col = 10\n",
    "recordcount = end_col - start_col + 1\n",
    "ListMMS = list()\n",
    "for i in range(start_row, end_row + 1):\n",
    "    row = [cell.value for cell in MMSSheet[i][start_col:end_col+1]]\n",
    "    ListMMS.append(row)\n",
    "    print(row)"
   ]
  },
  {
   "cell_type": "code",
   "execution_count": 29,
   "metadata": {},
   "outputs": [],
   "source": [
    "MMSBook = list()\n",
    "for i in range(len(ListMMS)):\n",
    "    row = ListMMS[i]\n",
    "    record = list()\n",
    "    record.append(row[0])\n",
    "    record.append(DatetimeToDate(row[1]))\n",
    "    record.append(DatetimeToDate(row[2]))\n",
    "    record.append(DatetimeToDate(row[3]))\n",
    "    record.append(row[4])\n",
    "    record.append(row[5])\n",
    "    record.append(row[6])\n",
    "    record.append(row[7])\n",
    "    record.append(row[8])\n",
    "    record.append(row[9])\n",
    "    record.append(row[10])\n",
    "    MMSBook.append(record)"
   ]
  },
  {
   "cell_type": "code",
   "execution_count": 30,
   "metadata": {},
   "outputs": [
    {
     "data": {
      "text/plain": [
       "[['MMS001',\n",
       "  Date(19,5,2021),\n",
       "  Date(21,5,2021),\n",
       "  Date(21,9,2021),\n",
       "  'Buy',\n",
       "  'USD',\n",
       "  1000000,\n",
       "  1000000,\n",
       "  'TWD',\n",
       "  28000000,\n",
       "  27900000],\n",
       " ['MMS002',\n",
       "  Date(13,6,2021),\n",
       "  Date(15,6,2021),\n",
       "  Date(15,12,2021),\n",
       "  'Sell',\n",
       "  'USD',\n",
       "  1000000,\n",
       "  1000000,\n",
       "  'TWD',\n",
       "  27900000,\n",
       "  27800000],\n",
       " ['MMS003',\n",
       "  Date(21,6,2021),\n",
       "  Date(23,6,2021),\n",
       "  Date(23,5,2022),\n",
       "  'Buy',\n",
       "  'USD',\n",
       "  1000000,\n",
       "  1000000,\n",
       "  'TWD',\n",
       "  27850000,\n",
       "  27700000]]"
      ]
     },
     "execution_count": 30,
     "metadata": {},
     "output_type": "execute_result"
    }
   ],
   "source": [
    "MMSBook"
   ]
  },
  {
   "cell_type": "code",
   "execution_count": 31,
   "metadata": {},
   "outputs": [],
   "source": [
    "SenSheet = PstBook['GIRR']\n",
    "for i in range(0, len(MMSBook)):\n",
    "    h_TSCommZero = h_TSCommZero_0\n",
    "    h_TSTermZero = h_TSTermZero_0\n",
    "    \n",
    "    ListValue = list()\n",
    "    record = MMSBook[i]\n",
    "    tradeDate = record[1]\n",
    "    effectiveDate = record[2]\n",
    "    maturityDate = record[3]\n",
    "    position = record[4]\n",
    "    CommCCY = record[5]    \n",
    "    InitCommAmt = record[6]\n",
    "    FinalCommAmt = record[7]\n",
    "    TermCCY = record[8]    \n",
    "    InitTermAmt = record[9]\n",
    "    FinalTermAmt = record[10]\n",
    "    MMS = DMoneyMarketSwap(evDate, effectiveDate, maturityDate, position, CommCCY, \n",
    "                           InitCommAmt, FinalCommAmt, TermCCY, InitTermAmt,\n",
    "                           FinalTermAmt, FXSpot, h_TSCommZero, h_TSTermZero)    \n",
    "    Value = MMS.NPV()        \n",
    "    ListValue.append(Value)\n",
    "    \n",
    "    for j in range(1, NoCurv):\n",
    "        h_TSCommZero = ql.YieldTermStructureHandle(ListTSCommRate[j])\n",
    "        MMS = DMoneyMarketSwap(evDate, effectiveDate, maturityDate, position, CommCCY,\n",
    "                               InitCommAmt, FinalCommAmt, TermCCY, InitTermAmt,\n",
    "                               FinalTermAmt, FXSpot, h_TSCommZero, h_TSTermZero)\n",
    "        Value = MMS.NPV()                \n",
    "        ListValue.append(Value)\n",
    "        SenSheet.cell(i+5, 1).value = record[0]\n",
    "        SenSheet.cell(i+5, 2).value = ListValue[0]\n",
    "        SenSheet.cell(i+5, 3).value = CommCCY\n",
    "\n",
    "    ListDelta = list()\n",
    "    for j in range(1, len(ListValue)):\n",
    "        ListDelta.append((ListValue[j] - ListValue[0])*10000)\n",
    "    \n",
    "    for j in range(0, len(ListDelta)):    \n",
    "        SenSheet.cell(i+5, j+5).value = ListDelta[j]\n",
    "    \n",
    "    ListVecCommRate = list()\n",
    "    CurvUpListTSCommRate = list()\n",
    "    for j in range(NoCurv):\n",
    "        AVecCommRate = ql.DoubleVector(CurvUpListListCommRate[j])\n",
    "        ListVecCommRate.append(AVecCommRate)\n",
    "        ATSCommRate = ql.ZeroCurve(VecDate, AVecCommRate, CommDC, Cal, ql.Linear(), \n",
    "                                   ql.Continuous, ql.Annual)\n",
    "        CurvUpListTSCommRate.append(ATSCommRate)\n",
    "                \n",
    "    ListVecCommRate = list()\n",
    "    CurvDnListTSCommRate = list()\n",
    "    for j in range(NoCurv):\n",
    "        AVecCommRate = ql.DoubleVector(CurvDnListListCommRate[j])\n",
    "        ListVecCommRate.append(AVecCommRate)\n",
    "        ATSCommRate = ql.ZeroCurve(VecDate, AVecCommRate, CommDC, Cal, ql.Linear(), \n",
    "                                   ql.Continuous, ql.Annual)\n",
    "        CurvDnListTSCommRate.append(ATSCommRate)\n",
    "        \n",
    "    CurvUpListHTSCommRate = list()\n",
    "    for j in range(NoCurv):\n",
    "        CurvUpListHTSCommRate.append(ql.YieldTermStructureHandle(CurvUpListTSCommRate[j]))\n",
    "        \n",
    "    CurvDnListHTSCommRate = list()\n",
    "    for j in range(NoCurv):\n",
    "        CurvDnListHTSCommRate.append(ql.YieldTermStructureHandle(CurvDnListTSCommRate[j]))\n",
    "        \n",
    "    CurvUpValue = list()\n",
    "    for j in range(NoCurv):\n",
    "        h_TSCommZero = CurvUpListHTSCommRate[j]\n",
    "        MMS = DMoneyMarketSwap(evDate, effectiveDate, maturityDate, position, CommCCY,\n",
    "                               InitCommAmt, FinalCommAmt, TermCCY, InitTermAmt,\n",
    "                               FinalTermAmt, FXSpot, h_TSCommZero, h_TSTermZero)\n",
    "        Value = MMS.NPV()                \n",
    "        CurvUpValue.append(Value)\n",
    "    \n",
    "    CurvDnValue = list()\n",
    "    for j in range(NoCurv):\n",
    "        h_TSCommZero = CurvDnListHTSCommRate[j]\n",
    "        MMS = DMoneyMarketSwap(evDate, effectiveDate, maturityDate, position, CommCCY,\n",
    "                               InitCommAmt, FinalCommAmt, TermCCY, InitTermAmt,\n",
    "                               FinalTermAmt, FXSpot, h_TSCommZero, h_TSTermZero)\n",
    "        Value = MMS.NPV()                \n",
    "        CurvDnValue.append(Value)\n",
    "        \n",
    "    CurvatureUp = list()\n",
    "    ShiftUpValue = list()\n",
    "    DeltaChange = list()\n",
    "    for j in range(1, NoCurv):\n",
    "        ShiftUpValue.append(CurvUpValue[j]-CurvUpValue[0])        \n",
    "        CurvatureUp.append(-((CurvUpValue[j]-CurvUpValue[0]) - 0.017 * ListDelta[j-1]))\n",
    "                \n",
    "    for j in range(0, len(CurvatureUp)):\n",
    "        SenSheet.cell(i+5, j+17).value = CurvatureUp[j]\n",
    "\n",
    "    CurvatureDn = list()\n",
    "    ShiftDnValue = list()\n",
    "    for j in range(1, NoCurv):\n",
    "        ShiftDnValue.append(CurvDnValue[j]-CurvDnValue[0])\n",
    "        CurvatureDn.append(-((CurvDnValue[j]-CurvDnValue[0]) + 0.017 * ListDelta[j-1]))\n",
    "\n",
    "    for j in range(0, len(CurvatureDn)):\n",
    "        SenSheet.cell(i+5, j+29).value = CurvatureDn[j]\n",
    "\n",
    "PstBook.save('Pst_MMS.xlsx')\n",
    "PstBook.close()"
   ]
  },
  {
   "cell_type": "code",
   "execution_count": null,
   "metadata": {},
   "outputs": [],
   "source": []
  }
 ],
 "metadata": {
  "kernelspec": {
   "display_name": "Python 3",
   "language": "python",
   "name": "python3"
  },
  "language_info": {
   "codemirror_mode": {
    "name": "ipython",
    "version": 3
   },
   "file_extension": ".py",
   "mimetype": "text/x-python",
   "name": "python",
   "nbconvert_exporter": "python",
   "pygments_lexer": "ipython3",
   "version": "3.8.3"
  }
 },
 "nbformat": 4,
 "nbformat_minor": 4
}
