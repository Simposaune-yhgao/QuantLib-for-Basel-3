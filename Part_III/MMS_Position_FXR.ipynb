{
 "cells": [
  {
   "cell_type": "code",
   "execution_count": 1,
   "metadata": {},
   "outputs": [],
   "source": [
    "import QuantLib as ql\n",
    "import openpyxl as xl"
   ]
  },
  {
   "cell_type": "code",
   "execution_count": 2,
   "metadata": {},
   "outputs": [],
   "source": [
    "def DatetimeToDate(ADatetime):\n",
    "    ADate = ql.Date(ADatetime.day, ADatetime.month, ADatetime.year)\n",
    "    return ADate"
   ]
  },
  {
   "cell_type": "code",
   "execution_count": 3,
   "metadata": {},
   "outputs": [],
   "source": [
    "class DMoneyMarketSwap:    \n",
    "    def __init__(self, evDate, effective, maturity, position, CCYComm, InitNPAComm, \n",
    "                 FinalNPAComm, CCYTerm, InitNPATerm, FinalNPATerm, FXSpot, h_discTSComm,\n",
    "                 h_discTSTerm):\n",
    "        self._ValueDate = evDate\n",
    "        self._EffectiveDate = effective\n",
    "        self._Maturity = maturity        \n",
    "        if position == 'Buy':          \n",
    "            self._Position = 1.0\n",
    "        else:\n",
    "            self._Position = -1.0\n",
    "        self._CCYComm = CCYComm\n",
    "        self._InitNPAComm = InitNPAComm\n",
    "        self._FinalNPAComm = FinalNPAComm\n",
    "        self._CCYTerm = CCYTerm\n",
    "        self._InitNPATerm = InitNPATerm\n",
    "        self._FinalNPATerm = FinalNPATerm\n",
    "        self._FXSpot = FXSpot\n",
    "        self._H_discTSComm = h_discTSComm\n",
    "        self._H_discTSTerm = h_discTSTerm\n",
    "        \n",
    "    def NPV(self):\n",
    "        FinalDfComm = self._H_discTSComm.discount(self._Maturity)\n",
    "        FinalDfTerm = self._H_discTSTerm.discount(self._Maturity)\n",
    "        FinalPVComm = FinalDfComm * self._FinalNPAComm\n",
    "        FinalPVTerm = FinalDfTerm * self._FinalNPATerm        \n",
    "        if (self._ValueDate >= self._EffectiveDate):        \n",
    "            self._Value = self._Position * (FinalPVComm * self._FXSpot - FinalPVTerm)\n",
    "        else:\n",
    "            InitDfComm = self._H_discTSComm.discount(self._EffectiveDate)\n",
    "            InitDfTerm = self._H_discTSTerm.discount(self._EffectiveDate)\n",
    "            InitPVComm = InitDfComm * self._InitNPAComm\n",
    "            InitPVTerm = InitDfTerm * self._InitNPATerm        \n",
    "            self._Value = self._Position * ((FinalPVComm * self._FXSpot - FinalPVTerm) \n",
    "                                            + (InitPVTerm - InitPVComm * self._FXSpot))\n",
    "        return self._Value"
   ]
  },
  {
   "cell_type": "code",
   "execution_count": 4,
   "metadata": {},
   "outputs": [],
   "source": [
    "PstBook = xl.load_workbook('Pst_MMS.xlsx', data_only=True)\n",
    "MktSheet = PstBook.worksheets[0]\n",
    "TermCCY = 'TWD'\n",
    "Type = 'MMS'\n",
    "CommCCY = MktSheet.cell(3, 5).value\n",
    "MTMDate = MktSheet.cell(1, 3).value\n",
    "FXSpot = MktSheet.cell(3, 6).value"
   ]
  },
  {
   "cell_type": "code",
   "execution_count": 5,
   "metadata": {},
   "outputs": [],
   "source": [
    "settings = ql.Settings.instance()\n",
    "evDate = DatetimeToDate(MTMDate)\n",
    "settings.setEvaluationDate(evDate)\n",
    "Cal = ql.NullCalendar()\n",
    "CommDC = ql.Actual360()\n",
    "TermDC = ql.Actual365Fixed()\n",
    "BDC = ql.Unadjusted\n",
    "settlementDays = 0"
   ]
  },
  {
   "cell_type": "code",
   "execution_count": 6,
   "metadata": {},
   "outputs": [
    {
     "name": "stdout",
     "output_type": "stream",
     "text": [
      "0.001459727696536763\n"
     ]
    }
   ],
   "source": [
    "CommZeroSP = MktSheet.cell(22, 6).value\n",
    "CommZero3M = MktSheet.cell(23, 6).value\n",
    "CommZero6M = MktSheet.cell(24, 6).value\n",
    "CommZero1Y = MktSheet.cell(25, 6).value\n",
    "print(CommZeroSP)"
   ]
  },
  {
   "cell_type": "code",
   "execution_count": 7,
   "metadata": {},
   "outputs": [
    {
     "name": "stdout",
     "output_type": "stream",
     "text": [
      "June 30th, 2021\n"
     ]
    }
   ],
   "source": [
    "DateSP = evDate\n",
    "Date3M = Cal.advance(evDate, 3, ql.Months, BDC, False)\n",
    "Date6M = Cal.advance(evDate, 6, ql.Months, BDC, False)\n",
    "Date1Y = Cal.advance(evDate, 1, ql.Years, BDC, False)\n",
    "print(DateSP)"
   ]
  },
  {
   "cell_type": "code",
   "execution_count": 8,
   "metadata": {},
   "outputs": [
    {
     "name": "stdout",
     "output_type": "stream",
     "text": [
      "-0.00392904297456824\n"
     ]
    }
   ],
   "source": [
    "TermZeroSP = MktSheet.cell(22, 12).value\n",
    "TermZero3M = MktSheet.cell(23, 12).value\n",
    "TermZero6M = MktSheet.cell(24, 12).value\n",
    "TermZero1Y = MktSheet.cell(25, 12).value\n",
    "print(TermZeroSP)"
   ]
  },
  {
   "cell_type": "code",
   "execution_count": 9,
   "metadata": {},
   "outputs": [
    {
     "data": {
      "text/plain": [
       "[-0.00392904297456824,\n",
       " -0.003929042973135284,\n",
       " -0.0006520395000015291,\n",
       " 0.001329938573603508]"
      ]
     },
     "execution_count": 9,
     "metadata": {},
     "output_type": "execute_result"
    }
   ],
   "source": [
    "ListDate = list([DateSP, Date3M, Date6M, Date1Y])\n",
    "ListCommRate = list([CommZeroSP, CommZero3M, CommZero6M, CommZero1Y])\n",
    "ListTermRate = list([TermZeroSP, TermZero3M, TermZero6M, TermZero1Y])\n",
    "ListDate\n",
    "ListCommRate\n",
    "ListTermRate"
   ]
  },
  {
   "cell_type": "code",
   "execution_count": 10,
   "metadata": {},
   "outputs": [],
   "source": [
    "VecDate = ql.DateVector(ListDate)\n",
    "VecCommRate = ql.DoubleVector(ListCommRate)\n",
    "VecTermRate = ql.DoubleVector(ListTermRate)"
   ]
  },
  {
   "cell_type": "code",
   "execution_count": 11,
   "metadata": {},
   "outputs": [],
   "source": [
    "TSCommZero = ql.ZeroCurve(VecDate, VecCommRate, CommDC, Cal, ql.Linear(), \n",
    "                          ql.Continuous, ql.Annual)\n",
    "h_TSCommZero = ql.YieldTermStructureHandle(TSCommZero)\n",
    "TSTermZero = ql.ZeroCurve(VecDate, VecTermRate, TermDC, Cal, ql.Linear(), \n",
    "                          ql.Continuous, ql.Annual)\n",
    "h_TSTermZero = ql.YieldTermStructureHandle(TSTermZero)"
   ]
  },
  {
   "cell_type": "code",
   "execution_count": 12,
   "metadata": {},
   "outputs": [],
   "source": [
    "MMSSheet = PstBook['MMS']"
   ]
  },
  {
   "cell_type": "code",
   "execution_count": 13,
   "metadata": {},
   "outputs": [
    {
     "name": "stdout",
     "output_type": "stream",
     "text": [
      "['MMS001', datetime.datetime(2021, 5, 19, 0, 0), datetime.datetime(2021, 5, 21, 0, 0), datetime.datetime(2021, 9, 21, 0, 0), 'Buy', 'USD', 1000000, 1000000, 'TWD', 28000000, 27900000]\n",
      "['MMS002', datetime.datetime(2021, 6, 13, 0, 0), datetime.datetime(2021, 6, 15, 0, 0), datetime.datetime(2021, 12, 15, 0, 0), 'Sell', 'USD', 1000000, 1000000, 'TWD', 27900000, 27800000]\n",
      "['MMS003', datetime.datetime(2021, 6, 21, 0, 0), datetime.datetime(2021, 6, 23, 0, 0), datetime.datetime(2022, 5, 23, 0, 0), 'Buy', 'USD', 1000000, 1000000, 'TWD', 27850000, 27700000]\n"
     ]
    }
   ],
   "source": [
    "start_row = 2\n",
    "end_row = 4\n",
    "start_col = 0\n",
    "end_col = 10\n",
    "recordcount = end_col - start_col + 1\n",
    "ListMMS = list()\n",
    "for i in range(start_row, end_row + 1):\n",
    "    row = [cell.value for cell in MMSSheet[i][start_col:end_col+1]]\n",
    "    ListMMS.append(row)\n",
    "    print(row)"
   ]
  },
  {
   "cell_type": "code",
   "execution_count": 14,
   "metadata": {},
   "outputs": [],
   "source": [
    "MMSBook = list()\n",
    "for i in range(len(ListMMS)):\n",
    "    row = ListMMS[i]\n",
    "    record = list()\n",
    "    record.append(row[0])\n",
    "    record.append(DatetimeToDate(row[1]))\n",
    "    record.append(DatetimeToDate(row[2]))\n",
    "    record.append(DatetimeToDate(row[3]))\n",
    "    record.append(row[4])\n",
    "    record.append(row[5])\n",
    "    record.append(row[6])\n",
    "    record.append(row[7])\n",
    "    record.append(row[8])\n",
    "    record.append(row[9])\n",
    "    record.append(row[10])\n",
    "    MMSBook.append(record)"
   ]
  },
  {
   "cell_type": "code",
   "execution_count": 15,
   "metadata": {},
   "outputs": [
    {
     "data": {
      "text/plain": [
       "[['MMS001',\n",
       "  Date(19,5,2021),\n",
       "  Date(21,5,2021),\n",
       "  Date(21,9,2021),\n",
       "  'Buy',\n",
       "  'USD',\n",
       "  1000000,\n",
       "  1000000,\n",
       "  'TWD',\n",
       "  28000000,\n",
       "  27900000],\n",
       " ['MMS002',\n",
       "  Date(13,6,2021),\n",
       "  Date(15,6,2021),\n",
       "  Date(15,12,2021),\n",
       "  'Sell',\n",
       "  'USD',\n",
       "  1000000,\n",
       "  1000000,\n",
       "  'TWD',\n",
       "  27900000,\n",
       "  27800000],\n",
       " ['MMS003',\n",
       "  Date(21,6,2021),\n",
       "  Date(23,6,2021),\n",
       "  Date(23,5,2022),\n",
       "  'Buy',\n",
       "  'USD',\n",
       "  1000000,\n",
       "  1000000,\n",
       "  'TWD',\n",
       "  27850000,\n",
       "  27700000]]"
      ]
     },
     "execution_count": 15,
     "metadata": {},
     "output_type": "execute_result"
    }
   ],
   "source": [
    "MMSBook"
   ]
  },
  {
   "cell_type": "code",
   "execution_count": 16,
   "metadata": {},
   "outputs": [
    {
     "name": "stdout",
     "output_type": "stream",
     "text": [
      "-43323.58480441943\n",
      "235492.56429441273\n",
      "4138918.651678074\n",
      "-4225565.821286913\n",
      "27881614.909883216\n",
      "-1.1175870895385742e-08\n",
      "1.1175870895385742e-08\n",
      "-50456.49452036247\n",
      "-329113.6512955688\n",
      "-4230313.846148457\n",
      "4129400.857107736\n",
      "-27865715.677520633\n",
      "-0.0\n",
      "-3.725290298461914e-09\n",
      "149766.27802324295\n",
      "428036.6884830296\n",
      "4323822.434920043\n",
      "-4024289.878873557\n",
      "27827041.045978665\n",
      "-0.0\n",
      "-0.0\n"
     ]
    }
   ],
   "source": [
    "SenSheet = PstBook['FXR']\n",
    "for i in range(0, len(MMSBook)):\n",
    "    ListValue = list()\n",
    "    record = MMSBook[i]\n",
    "    tradeDate = record[1]\n",
    "    effectiveDate = record[2]\n",
    "    maturityDate = record[3]\n",
    "    position = record[4]\n",
    "    CommCCY = record[5]    \n",
    "    InitCommAmt = record[6]\n",
    "    FinalCommAmt = record[7]\n",
    "    TermCCY = record[8]    \n",
    "    InitTermAmt = record[9]\n",
    "    FinalTermAmt = record[10]\n",
    "    MMS = DMoneyMarketSwap(evDate, effectiveDate, maturityDate, position, CommCCY, \n",
    "                           InitCommAmt, FinalCommAmt, TermCCY, InitTermAmt,\n",
    "                           FinalTermAmt, FXSpot, h_TSCommZero, h_TSTermZero)    \n",
    "    Value = MMS.NPV()\n",
    "    print(Value)\n",
    "    \n",
    "    FXSpot_1 = FXSpot * 1.01\n",
    "    MMS = DMoneyMarketSwap(evDate, effectiveDate, maturityDate, position, CommCCY, \n",
    "                           InitCommAmt, FinalCommAmt, TermCCY, InitTermAmt,\n",
    "                           FinalTermAmt, FXSpot_1, h_TSCommZero, h_TSTermZero)    \n",
    "    Value_1 = MMS.NPV()\n",
    "    Delta = (Value_1 - Value) * 100.0\n",
    "    print(Value_1)\n",
    "    \n",
    "    FXSpot_Up = FXSpot * 1.15\n",
    "    MMS = DMoneyMarketSwap(evDate, effectiveDate, maturityDate, position, CommCCY, \n",
    "                           InitCommAmt, FinalCommAmt, TermCCY, InitTermAmt,\n",
    "                           FinalTermAmt, FXSpot_Up, h_TSCommZero, h_TSTermZero)\n",
    "    Value_Up = MMS.NPV()\n",
    "    print(Value_Up)\n",
    "    \n",
    "    FXSpot_Dn = FXSpot * 0.85\n",
    "    MMS = DMoneyMarketSwap(evDate, effectiveDate, maturityDate, position, CommCCY, \n",
    "                           InitCommAmt, FinalCommAmt, TermCCY, InitTermAmt,\n",
    "                           FinalTermAmt, FXSpot_Dn, h_TSCommZero, h_TSTermZero)    \n",
    "    Value_Dn = MMS.NPV()\n",
    "    print(Value_Dn)\n",
    "    \n",
    "    Curv_Up = (-((Value_Up - Value) - 0.15 * Delta))\n",
    "    Curv_Dn = (-((Value_Dn - Value) + 0.15 * Delta))    \n",
    "    \n",
    "    SenSheet.cell(i+5, 1).value = record[0]\n",
    "    SenSheet.cell(i+5, 2).value = Value\n",
    "    SenSheet.cell(i+5, 3).value = TermCCY\n",
    "    SenSheet.cell(i+5, 4).value = Delta\n",
    "    SenSheet.cell(i+5, 6).value = Curv_Up\n",
    "    SenSheet.cell(i+5, 8).value = Curv_Dn\n",
    "    print(Delta)\n",
    "    print(Curv_Up)\n",
    "    print(Curv_Dn)\n",
    "    \n",
    "PstBook.save('Pst_MMS.xlsx')\n",
    "PstBook.close()"
   ]
  },
  {
   "cell_type": "code",
   "execution_count": null,
   "metadata": {},
   "outputs": [],
   "source": []
  }
 ],
 "metadata": {
  "kernelspec": {
   "display_name": "Python 3",
   "language": "python",
   "name": "python3"
  },
  "language_info": {
   "codemirror_mode": {
    "name": "ipython",
    "version": 3
   },
   "file_extension": ".py",
   "mimetype": "text/x-python",
   "name": "python",
   "nbconvert_exporter": "python",
   "pygments_lexer": "ipython3",
   "version": "3.8.3"
  }
 },
 "nbformat": 4,
 "nbformat_minor": 4
}
