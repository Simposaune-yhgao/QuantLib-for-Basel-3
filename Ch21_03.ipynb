{
 "cells": [
  {
   "cell_type": "code",
   "execution_count": 1,
   "metadata": {},
   "outputs": [],
   "source": [
    "import QuantLib as ql\n",
    "settings = ql.Settings.instance()\n",
    "evDate = ql.Date(8, 6, 2021)\n",
    "settings.setEvaluationDate(evDate)\n",
    "Cal = ql.NullCalendar()\n",
    "DC365 = ql.Actual365Fixed()\n",
    "settlementDays = 2\n",
    "refDate = Cal.advance(evDate, 2, ql.Days, ql.Following, False)\n",
    "maturity = ql.Date(10, 6, 2022)\n",
    "europeanExer = ql.EuropeanExercise(maturity)\n",
    "vanillaPayoff = ql.PlainVanillaPayoff(ql.Option.Call, 100.0)"
   ]
  },
  {
   "cell_type": "code",
   "execution_count": 2,
   "metadata": {},
   "outputs": [],
   "source": [
    "r = 0.08\n",
    "rTS = ql.FlatForward(settlementDays, Cal, r, DC365, ql.Compounded, ql.Annual)\n",
    "q = 0.05\n",
    "qTS = ql.FlatForward(settlementDays, Cal, q, DC365, ql.Compounded, ql.Annual)\n",
    "S0 = 100\n",
    "Q_S = ql.SimpleQuote(S0)\n",
    "hQ_S = ql.QuoteHandle(Q_S)\n",
    "h_rTS = ql.YieldTermStructureHandle(rTS)\n",
    "h_qTS = ql.YieldTermStructureHandle(qTS)\n",
    "vol = 0.3\n",
    "volTS = ql.BlackConstantVol(evDate, Cal, vol, DC365)\n",
    "h_volTS = ql.BlackVolTermStructureHandle(volTS)\n",
    "GBSProcess = ql.GeneralizedBlackScholesProcess(hQ_S, h_qTS, h_rTS, h_volTS)"
   ]
  },
  {
   "cell_type": "code",
   "execution_count": 3,
   "metadata": {},
   "outputs": [],
   "source": [
    "AEE = ql.AnalyticEuropeanEngine(GBSProcess)"
   ]
  },
  {
   "cell_type": "code",
   "execution_count": 4,
   "metadata": {},
   "outputs": [],
   "source": [
    "anEuroOption = ql.EuropeanOption(vanillaPayoff, europeanExer)"
   ]
  },
  {
   "cell_type": "code",
   "execution_count": 5,
   "metadata": {},
   "outputs": [],
   "source": [
    "anEuroOption.setPricingEngine(AEE)"
   ]
  },
  {
   "cell_type": "code",
   "execution_count": 6,
   "metadata": {},
   "outputs": [],
   "source": [
    "Value = anEuroOption.NPV()"
   ]
  },
  {
   "cell_type": "code",
   "execution_count": 7,
   "metadata": {},
   "outputs": [
    {
     "name": "stdout",
     "output_type": "stream",
     "text": [
      "12.600016258990738\n"
     ]
    }
   ],
   "source": [
    "print(Value)"
   ]
  },
  {
   "cell_type": "code",
   "execution_count": 8,
   "metadata": {},
   "outputs": [
    {
     "name": "stdout",
     "output_type": "stream",
     "text": [
      "0.5680063840696695\n"
     ]
    }
   ],
   "source": [
    "print(anEuroOption.delta())"
   ]
  },
  {
   "cell_type": "code",
   "execution_count": 9,
   "metadata": {},
   "outputs": [
    {
     "name": "stdout",
     "output_type": "stream",
     "text": [
      "0.01225967005080512\n"
     ]
    }
   ],
   "source": [
    "print(anEuroOption.gamma())"
   ]
  },
  {
   "cell_type": "code",
   "execution_count": 10,
   "metadata": {},
   "outputs": [
    {
     "name": "stdout",
     "output_type": "stream",
     "text": [
      "36.980538975168315\n"
     ]
    }
   ],
   "source": [
    "print(anEuroOption.vega())"
   ]
  },
  {
   "cell_type": "code",
   "execution_count": 11,
   "metadata": {},
   "outputs": [
    {
     "name": "stdout",
     "output_type": "stream",
     "text": [
      "-6.143829453918075\n"
     ]
    }
   ],
   "source": [
    "print(anEuroOption.theta())"
   ]
  },
  {
   "cell_type": "code",
   "execution_count": 12,
   "metadata": {},
   "outputs": [
    {
     "name": "stdout",
     "output_type": "stream",
     "text": [
      "44.20062214797626\n"
     ]
    }
   ],
   "source": [
    "print(anEuroOption.rho())"
   ]
  },
  {
   "cell_type": "code",
   "execution_count": 13,
   "metadata": {},
   "outputs": [
    {
     "name": "stdout",
     "output_type": "stream",
     "text": [
      "-56.800638406966996\n"
     ]
    }
   ],
   "source": [
    "print(anEuroOption.dividendRho())"
   ]
  },
  {
   "cell_type": "code",
   "execution_count": 14,
   "metadata": {},
   "outputs": [
    {
     "name": "stdout",
     "output_type": "stream",
     "text": [
      "0.5522284289566233\n"
     ]
    }
   ],
   "source": [
    "print(anEuroOption.deltaForward())"
   ]
  },
  {
   "cell_type": "code",
   "execution_count": 15,
   "metadata": {},
   "outputs": [
    {
     "name": "stdout",
     "output_type": "stream",
     "text": [
      "-0.016832409462789247\n"
     ]
    }
   ],
   "source": [
    "print(anEuroOption.thetaPerDay())"
   ]
  },
  {
   "cell_type": "code",
   "execution_count": 16,
   "metadata": {},
   "outputs": [
    {
     "data": {
      "text/plain": [
       "0.202764651949903"
      ]
     },
     "execution_count": 16,
     "metadata": {},
     "output_type": "execute_result"
    }
   ],
   "source": [
    "anEuroOption.impliedVolatility(9.0, GBSProcess)"
   ]
  },
  {
   "cell_type": "code",
   "execution_count": 17,
   "metadata": {},
   "outputs": [
    {
     "data": {
      "text/plain": [
       "0.19195525376278744"
      ]
     },
     "execution_count": 17,
     "metadata": {},
     "output_type": "execute_result"
    }
   ],
   "source": [
    "anEuroOption.impliedVolatility(8.6, GBSProcess)"
   ]
  },
  {
   "cell_type": "code",
   "execution_count": 18,
   "metadata": {},
   "outputs": [
    {
     "data": {
      "text/plain": [
       "0.18654789036266453"
      ]
     },
     "execution_count": 18,
     "metadata": {},
     "output_type": "execute_result"
    }
   ],
   "source": [
    "anEuroOption.impliedVolatility(8.4, GBSProcess)"
   ]
  },
  {
   "cell_type": "code",
   "execution_count": 19,
   "metadata": {},
   "outputs": [],
   "source": [
    "BCRR = ql.BinomialCRRVanillaEngine(GBSProcess, 50)"
   ]
  },
  {
   "cell_type": "code",
   "execution_count": 20,
   "metadata": {},
   "outputs": [],
   "source": [
    "anEuroOption.setPricingEngine(BCRR)"
   ]
  },
  {
   "cell_type": "code",
   "execution_count": 21,
   "metadata": {},
   "outputs": [],
   "source": [
    "Value = anEuroOption.NPV()"
   ]
  },
  {
   "cell_type": "code",
   "execution_count": 22,
   "metadata": {},
   "outputs": [
    {
     "name": "stdout",
     "output_type": "stream",
     "text": [
      "12.51331113227305\n"
     ]
    }
   ],
   "source": [
    "print(Value)"
   ]
  },
  {
   "cell_type": "code",
   "execution_count": 23,
   "metadata": {},
   "outputs": [],
   "source": [
    "FDE = ql.FdBlackScholesVanillaEngine(GBSProcess, 100, 200)"
   ]
  },
  {
   "cell_type": "code",
   "execution_count": 24,
   "metadata": {},
   "outputs": [],
   "source": [
    "anEuroOption.setPricingEngine(FDE)"
   ]
  },
  {
   "cell_type": "code",
   "execution_count": 25,
   "metadata": {},
   "outputs": [],
   "source": [
    "Value = anEuroOption.NPV()"
   ]
  },
  {
   "cell_type": "code",
   "execution_count": 26,
   "metadata": {},
   "outputs": [
    {
     "name": "stdout",
     "output_type": "stream",
     "text": [
      "12.571829653991536\n"
     ]
    }
   ],
   "source": [
    "print(Value)"
   ]
  },
  {
   "cell_type": "code",
   "execution_count": 27,
   "metadata": {},
   "outputs": [],
   "source": [
    "MCE = ql.MCEuropeanEngine(GBSProcess, \"pseudorandom\", timeSteps=1, \n",
    "                          requiredTolerance=0.02, seed=42)"
   ]
  },
  {
   "cell_type": "code",
   "execution_count": 28,
   "metadata": {},
   "outputs": [],
   "source": [
    "anEuroOption.setPricingEngine(MCE)"
   ]
  },
  {
   "cell_type": "code",
   "execution_count": 29,
   "metadata": {},
   "outputs": [],
   "source": [
    "Error = anEuroOption.errorEstimate()\n",
    "Value = anEuroOption.NPV()"
   ]
  },
  {
   "cell_type": "code",
   "execution_count": 30,
   "metadata": {},
   "outputs": [
    {
     "name": "stdout",
     "output_type": "stream",
     "text": [
      "12.569836509575637\n"
     ]
    }
   ],
   "source": [
    "print(Value)"
   ]
  },
  {
   "cell_type": "code",
   "execution_count": null,
   "metadata": {},
   "outputs": [],
   "source": []
  }
 ],
 "metadata": {
  "kernelspec": {
   "display_name": "Python 3",
   "language": "python",
   "name": "python3"
  },
  "language_info": {
   "codemirror_mode": {
    "name": "ipython",
    "version": 3
   },
   "file_extension": ".py",
   "mimetype": "text/x-python",
   "name": "python",
   "nbconvert_exporter": "python",
   "pygments_lexer": "ipython3",
   "version": "3.8.3"
  }
 },
 "nbformat": 4,
 "nbformat_minor": 4
}
