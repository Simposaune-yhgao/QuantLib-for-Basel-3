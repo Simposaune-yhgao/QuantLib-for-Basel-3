{
 "cells": [
  {
   "cell_type": "code",
   "execution_count": 1,
   "metadata": {},
   "outputs": [],
   "source": [
    "import QuantLib as ql\n",
    "settings = ql.Settings.instance()\n",
    "evDate = ql.Date(8, 6, 2021)\n",
    "settings.setEvaluationDate(evDate)\n",
    "Cal = ql.NullCalendar()\n",
    "DC365 = ql.Actual365Fixed()\n",
    "settlementDays = 2\n",
    "refDate = Cal.advance(evDate, 2, ql.Days, ql.Following, False)"
   ]
  },
  {
   "cell_type": "code",
   "execution_count": 2,
   "metadata": {},
   "outputs": [],
   "source": [
    "maturity = ql.Date(10, 12, 2021)\n",
    "europeanExer = ql.EuropeanExercise(maturity)"
   ]
  },
  {
   "cell_type": "code",
   "execution_count": 3,
   "metadata": {},
   "outputs": [],
   "source": [
    "vanillaPayoff = ql.PlainVanillaPayoff(ql.Option.Call, 100.0)"
   ]
  },
  {
   "cell_type": "code",
   "execution_count": 4,
   "metadata": {},
   "outputs": [],
   "source": [
    "anEuroOption = ql.EuropeanOption(vanillaPayoff, europeanExer)"
   ]
  },
  {
   "cell_type": "code",
   "execution_count": 5,
   "metadata": {},
   "outputs": [],
   "source": [
    "americanExer = ql.AmericanExercise(evDate, maturity)"
   ]
  },
  {
   "cell_type": "code",
   "execution_count": 6,
   "metadata": {},
   "outputs": [],
   "source": [
    "anAmerOption = ql.VanillaOption(vanillaPayoff, americanExer)"
   ]
  },
  {
   "cell_type": "code",
   "execution_count": 7,
   "metadata": {},
   "outputs": [],
   "source": [
    "rebate = 5\n",
    "DOBarrier = 90\n",
    "anDOBarrierOpt = ql.BarrierOption(ql.Barrier.DownOut, DOBarrier, \n",
    "                                  rebate, vanillaPayoff, europeanExer)"
   ]
  },
  {
   "cell_type": "code",
   "execution_count": 8,
   "metadata": {},
   "outputs": [],
   "source": [
    "UOBarrier = 110\n",
    "anUOBarrierOpt = ql.BarrierOption(ql.Barrier.UpOut, UOBarrier, \n",
    "                                  rebate, vanillaPayoff, europeanExer)"
   ]
  },
  {
   "cell_type": "code",
   "execution_count": 9,
   "metadata": {},
   "outputs": [],
   "source": [
    "anDKOOption = ql.DoubleBarrierOption(ql.DoubleBarrier.KnockOut, \n",
    "                                     DOBarrier, UOBarrier, rebate, \n",
    "                                     vanillaPayoff, europeanExer)"
   ]
  },
  {
   "cell_type": "code",
   "execution_count": 10,
   "metadata": {},
   "outputs": [],
   "source": [
    "d1 = ql.Date(10, 7, 2021)\n",
    "d2 = ql.Date(10, 8, 2021)\n",
    "d3 = ql.Date(10, 9, 2021)\n",
    "d4 = ql.Date(10, 10, 2021)\n",
    "d5 = ql.Date(10, 11, 2021)\n",
    "d6 = ql.Date(10, 12, 2021)\n",
    "V_Date = ql.DateVector([d1, d2, d3, d4, d5, d6])\n",
    "anDisAvgAsianOption = ql.DiscreteAveragingAsianOption(ql.Average.Arithmetic, \n",
    "                                                      0, 0, V_Date, vanillaPayoff, \n",
    "                                                      europeanExer)"
   ]
  },
  {
   "cell_type": "code",
   "execution_count": 11,
   "metadata": {},
   "outputs": [],
   "source": [
    "anConAvgAsianOption = ql.ContinuousAveragingAsianOption(ql.Average.Arithmetic, \n",
    "                                                        vanillaPayoff, europeanExer)"
   ]
  },
  {
   "cell_type": "code",
   "execution_count": 12,
   "metadata": {},
   "outputs": [],
   "source": [
    "maxBasketPayoff = ql.MaxBasketPayoff(vanillaPayoff)"
   ]
  },
  {
   "cell_type": "code",
   "execution_count": 13,
   "metadata": {},
   "outputs": [],
   "source": [
    "minBasketPayoff = ql.MinBasketPayoff(vanillaPayoff)"
   ]
  },
  {
   "cell_type": "code",
   "execution_count": 14,
   "metadata": {},
   "outputs": [],
   "source": [
    "basketOption = ql.BasketOption(maxBasketPayoff, europeanExer)"
   ]
  },
  {
   "cell_type": "code",
   "execution_count": null,
   "metadata": {},
   "outputs": [],
   "source": []
  }
 ],
 "metadata": {
  "kernelspec": {
   "display_name": "Python 3",
   "language": "python",
   "name": "python3"
  },
  "language_info": {
   "codemirror_mode": {
    "name": "ipython",
    "version": 3
   },
   "file_extension": ".py",
   "mimetype": "text/x-python",
   "name": "python",
   "nbconvert_exporter": "python",
   "pygments_lexer": "ipython3",
   "version": "3.8.3"
  }
 },
 "nbformat": 4,
 "nbformat_minor": 4
}
